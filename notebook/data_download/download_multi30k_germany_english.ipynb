{
 "cells": [
  {
   "cell_type": "markdown",
   "metadata": {},
   "source": [
    "Download multi30k dataset from [git repository](https://github.com/multi30k/dataset) and put it data/raw directory."
   ]
  },
  {
   "cell_type": "markdown",
   "metadata": {},
   "source": [
    "# prepare dataset url"
   ]
  },
  {
   "cell_type": "code",
   "execution_count": 7,
   "metadata": {},
   "outputs": [],
   "source": [
    "import urllib"
   ]
  },
  {
   "cell_type": "code",
   "execution_count": 3,
   "metadata": {},
   "outputs": [],
   "source": [
    "url_base = 'https://raw.githubusercontent.com/multi30k/dataset/master/data/task1/raw/'\n",
    "train_name = ['train.de.gz', 'train.en.gz']\n",
    "val_name   = ['val.de.gz', 'val.en.gz']\n",
    "\n",
    "train_urls = [url_base + name for name in train_name]\n",
    "val_urls   = [url_base + name for name in val_name]\n"
   ]
  },
  {
   "cell_type": "code",
   "execution_count": 5,
   "metadata": {},
   "outputs": [
    {
     "data": {
      "text/plain": [
       "['https://raw.githubusercontent.com/multi30k/dataset/master/data/task1/raw/train.de.gz',\n",
       " 'https://raw.githubusercontent.com/multi30k/dataset/master/data/task1/raw/train.en.gz']"
      ]
     },
     "execution_count": 5,
     "metadata": {},
     "output_type": "execute_result"
    }
   ],
   "source": [
    "train_urls"
   ]
  },
  {
   "cell_type": "code",
   "execution_count": 6,
   "metadata": {},
   "outputs": [
    {
     "data": {
      "text/plain": [
       "['https://raw.githubusercontent.com/multi30k/dataset/master/data/task1/raw/val.de.gz',\n",
       " 'https://raw.githubusercontent.com/multi30k/dataset/master/data/task1/raw/val.en.gz']"
      ]
     },
     "execution_count": 6,
     "metadata": {},
     "output_type": "execute_result"
    }
   ],
   "source": [
    "val_urls"
   ]
  },
  {
   "cell_type": "markdown",
   "metadata": {},
   "source": [
    "# download archive files"
   ]
  },
  {
   "cell_type": "code",
   "execution_count": 11,
   "metadata": {},
   "outputs": [
    {
     "name": "stdout",
     "output_type": "stream",
     "text": [
      "https://raw.githubusercontent.com/multi30k/dataset/master/data/task1/raw/train.de.gz saved\n",
      "https://raw.githubusercontent.com/multi30k/dataset/master/data/task1/raw/train.en.gz saved\n",
      "https://raw.githubusercontent.com/multi30k/dataset/master/data/task1/raw/val.de.gz saved\n",
      "https://raw.githubusercontent.com/multi30k/dataset/master/data/task1/raw/val.en.gz saved\n"
     ]
    }
   ],
   "source": [
    "import os\n",
    "\n",
    "urls = train_urls + val_urls\n",
    "os.makedirs('../../data/raw/multi30k', exist_ok=True)\n",
    "save_dir = '../../data/raw/multi30k/'\n",
    "\n",
    "for url in urls:\n",
    "    data = urllib.request.urlopen(url).read()\n",
    "    with open(save_dir + url.split('/')[-1], 'wb') as f:\n",
    "        f.write(data)\n",
    "        print(f'{url} saved')"
   ]
  },
  {
   "cell_type": "markdown",
   "metadata": {},
   "source": [
    "# unzip download files"
   ]
  },
  {
   "cell_type": "code",
   "execution_count": 14,
   "metadata": {},
   "outputs": [],
   "source": [
    "import gzip\n",
    "import glob\n",
    "import shutil"
   ]
  },
  {
   "cell_type": "code",
   "execution_count": 13,
   "metadata": {},
   "outputs": [
    {
     "name": "stdout",
     "output_type": "stream",
     "text": [
      "['../../data/raw/multi30k/train.en.gz', '../../data/raw/multi30k/train.de.gz', '../../data/raw/multi30k/val.de.gz', '../../data/raw/multi30k/val.en.gz']\n"
     ]
    }
   ],
   "source": [
    "# list up archived files\n",
    "archive_files = glob.glob(save_dir + '*.gz')\n",
    "print(archive_files)"
   ]
  },
  {
   "cell_type": "code",
   "execution_count": 18,
   "metadata": {},
   "outputs": [
    {
     "name": "stdout",
     "output_type": "stream",
     "text": [
      "train.en.txt extracted\n",
      "train.de.txt extracted\n",
      "val.de.txt extracted\n",
      "val.en.txt extracted\n"
     ]
    }
   ],
   "source": [
    "# extract files\n",
    "destination_dir_path = '../../data/processed/multi30k_unziped/'\n",
    "os.makedirs(destination_dir_path, exist_ok=True)\n",
    "\n",
    "for archive_file_path in archive_files:\n",
    "    with gzip.open(archive_file_path, mode='rb') as gzip_file:\n",
    "        unzipped_file_name = archive_file_path.split('/')[-1].replace('.gz', '.txt')\n",
    "        destination_file_path = destination_dir_path + unzipped_file_name\n",
    "\n",
    "        with open(destination_file_path, mode='wb') as f:\n",
    "            shutil.copyfileobj(gzip_file, f)\n",
    "            print(f'{unzipped_file_name} extracted')"
   ]
  },
  {
   "cell_type": "code",
   "execution_count": null,
   "metadata": {},
   "outputs": [],
   "source": []
  }
 ],
 "metadata": {
  "kernelspec": {
   "display_name": ".venv",
   "language": "python",
   "name": "python3"
  },
  "language_info": {
   "codemirror_mode": {
    "name": "ipython",
    "version": 3
   },
   "file_extension": ".py",
   "mimetype": "text/x-python",
   "name": "python",
   "nbconvert_exporter": "python",
   "pygments_lexer": "ipython3",
   "version": "3.10.12"
  }
 },
 "nbformat": 4,
 "nbformat_minor": 2
}

{
 "cells": [
  {
   "cell_type": "code",
   "execution_count": null,
   "metadata": {},
   "outputs": [],
   "source": [
    "import os"
   ]
  },
  {
   "cell_type": "code",
   "execution_count": 4,
   "metadata": {},
   "outputs": [],
   "source": [
    "# load unzip dataset\n",
    "data_dir_path = '/home/sasatake/repos/python/transformer/data/processed/multi30k_unziped/'\n",
    "train_de_path = os.path.join(data_dir_path, 'train.de.txt')\n",
    "train_en_path = os.path.join(data_dir_path, 'train.en.txt')\n",
    "val_de_path = os.path.join(data_dir_path, 'val.de.txt')\n",
    "val_en_path = os.path.join(data_dir_path, 'val.en.txt')\n",
    "\n",
    "file_paths_train = [train_de_path, train_en_path]\n",
    "file_paths_val   = [val_de_path, val_en_path]"
   ]
  },
  {
   "cell_type": "code",
   "execution_count": 5,
   "metadata": {},
   "outputs": [],
   "source": [
    "def read_texts(file_path):\n",
    "    with open(file_path, 'r') as f:\n",
    "        texts = f.readlines()\n",
    "    return texts"
   ]
  },
  {
   "cell_type": "code",
   "execution_count": null,
   "metadata": {},
   "outputs": [],
   "source": [
    "texts_src_train = read_texts(file_paths_train[0])\n",
    "texts_tgt_train = read_texts(file_paths_train[1])\n",
    "texts_src_valid = read_texts(file_paths_val[0])\n",
    "texts_tgt_valid = read_texts(file_paths_val[1])"
   ]
  },
  {
   "cell_type": "code",
   "execution_count": 7,
   "metadata": {},
   "outputs": [
    {
     "name": "stdout",
     "output_type": "stream",
     "text": [
      "Zwei junge weiße Männer sind im Freien in der Nähe vieler Büsche.\n",
      "|\n",
      "Two young, White males are outside near many bushes.\n",
      "\n",
      "Mehrere Männer mit Schutzhelmen bedienen ein Antriebsradsystem.\n",
      "|\n",
      "Several men in hard hats are operating a giant pulley system.\n",
      "\n",
      "Ein kleines Mädchen klettert in ein Spielhaus aus Holz.\n",
      "|\n",
      "A little girl climbing into a wooden playhouse.\n",
      "\n"
     ]
    }
   ],
   "source": [
    "# show the pair of source text and target text\n",
    "for src, tgt in zip(texts_src_train[:3], texts_tgt_train[:3]):\n",
    "    print(src.strip('\\n'))\n",
    "    print('|')\n",
    "    print(tgt.strip('\\n'))\n",
    "    print('')"
   ]
  },
  {
   "cell_type": "code",
   "execution_count": null,
   "metadata": {},
   "outputs": [],
   "source": []
  }
 ],
 "metadata": {
  "kernelspec": {
   "display_name": ".venv",
   "language": "python",
   "name": "python3"
  },
  "language_info": {
   "codemirror_mode": {
    "name": "ipython",
    "version": 3
   },
   "file_extension": ".py",
   "mimetype": "text/x-python",
   "name": "python",
   "nbconvert_exporter": "python",
   "pygments_lexer": "ipython3",
   "version": "3.10.12"
  }
 },
 "nbformat": 4,
 "nbformat_minor": 2
}

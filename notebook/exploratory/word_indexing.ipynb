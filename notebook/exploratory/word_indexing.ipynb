{
 "cells": [
  {
   "cell_type": "code",
   "execution_count": 1,
   "metadata": {},
   "outputs": [],
   "source": [
    "import sys"
   ]
  },
  {
   "cell_type": "code",
   "execution_count": 2,
   "metadata": {},
   "outputs": [],
   "source": [
    "# load local modules\n",
    "script_abs_path = '/home/sasatake/repos/python/transformer/script'\n",
    "sys.path.append(script_abs_path)\n",
    "\n",
    "from load_dataset import Multi30k\n",
    "from tokenizer import Tokenizer"
   ]
  },
  {
   "cell_type": "markdown",
   "metadata": {},
   "source": [
    "# load dataset"
   ]
  },
  {
   "cell_type": "code",
   "execution_count": 3,
   "metadata": {},
   "outputs": [],
   "source": [
    "# load dataset\n",
    "multi30 = Multi30k()"
   ]
  },
  {
   "cell_type": "markdown",
   "metadata": {},
   "source": [
    "# tokenize and add index"
   ]
  },
  {
   "cell_type": "code",
   "execution_count": 4,
   "metadata": {},
   "outputs": [],
   "source": [
    "# make vocab\n",
    "tokenizer = Tokenizer()\n",
    "# 参照元にはデータセットの結合は行われていないが，Eisfischerhütteという単語がvalidの方にしか入っていないため，トーカナイズが失敗する．\n",
    "all_texts_de = multi30.datasets['texts_src_de_train'] + multi30.datasets['texts_src_de_valid']\n",
    "all_texts_en = multi30.datasets['texts_tgt_en_train'] + multi30.datasets['texts_tgt_en_valid']\n",
    "token2idx_de, idx2token_de, counter_de = tokenizer.build_vocab(lang='de', texts=all_texts_de)\n",
    "token2idx_en, idx2token_en, counter_en = tokenizer.build_vocab(lang='en', texts=all_texts_en)"
   ]
  },
  {
   "cell_type": "code",
   "execution_count": 5,
   "metadata": {},
   "outputs": [
    {
     "name": "stdout",
     "output_type": "stream",
     "text": [
      "german vocab size : 19620\n",
      "english vocab size : 11010\n"
     ]
    }
   ],
   "source": [
    "print(f'german vocab size : {len(idx2token_de)}')\n",
    "print(f'english vocab size : {len(idx2token_en)}')"
   ]
  },
  {
   "cell_type": "markdown",
   "metadata": {},
   "source": [
    "# result : german"
   ]
  },
  {
   "cell_type": "code",
   "execution_count": 6,
   "metadata": {},
   "outputs": [
    {
     "name": "stdout",
     "output_type": "stream",
     "text": [
      "index = <unk>\t\ttoken = 0\n",
      "index = <pad>\t\ttoken = 1\n",
      "index = <start>\t\ttoken = 2\n",
      "index = <end>\t\ttoken = 3\n",
      "index = .\t\ttoken = 4\n",
      "index = Ein\t\ttoken = 5\n",
      "index = einem\t\ttoken = 6\n",
      "index = in\t\ttoken = 7\n",
      "index = und\t\ttoken = 8\n",
      "index = ,\t\ttoken = 9\n",
      "index = mit\t\ttoken = 10\n"
     ]
    }
   ],
   "source": [
    "# token to index\n",
    "idx_limit = 10\n",
    "for idx, (k, v) in enumerate(token2idx_de.items()):\n",
    "    print(f'index = {k}\\t\\ttoken = {v}')\n",
    "    if idx == idx_limit:\n",
    "        break"
   ]
  },
  {
   "cell_type": "code",
   "execution_count": 7,
   "metadata": {},
   "outputs": [
    {
     "name": "stdout",
     "output_type": "stream",
     "text": [
      "index = 0\t\ttoken = <unk>\n",
      "index = 1\t\ttoken = <pad>\n",
      "index = 2\t\ttoken = <start>\n",
      "index = 3\t\ttoken = <end>\n",
      "index = 4\t\ttoken = .\n",
      "index = 5\t\ttoken = Ein\n",
      "index = 6\t\ttoken = einem\n",
      "index = 7\t\ttoken = in\n",
      "index = 8\t\ttoken = und\n",
      "index = 9\t\ttoken = ,\n",
      "index = 10\t\ttoken = mit\n"
     ]
    }
   ],
   "source": [
    "# index to token\n",
    "idx_limit = 10\n",
    "for idx, (k, v) in enumerate(idx2token_de.items()):\n",
    "    print(f'index = {idx}\\t\\ttoken = {v}')\n",
    "    if idx == idx_limit:\n",
    "        break"
   ]
  },
  {
   "cell_type": "markdown",
   "metadata": {},
   "source": [
    "# result : english"
   ]
  },
  {
   "cell_type": "code",
   "execution_count": 8,
   "metadata": {},
   "outputs": [
    {
     "name": "stdout",
     "output_type": "stream",
     "text": [
      "index = <unk>\t\ttoken = 0\n",
      "index = <pad>\t\ttoken = 1\n",
      "index = <start>\t\ttoken = 2\n",
      "index = <end>\t\ttoken = 3\n",
      "index = a\t\ttoken = 4\n",
      "index = .\t\ttoken = 5\n",
      "index = A\t\ttoken = 6\n",
      "index = in\t\ttoken = 7\n",
      "index = the\t\ttoken = 8\n",
      "index = on\t\ttoken = 9\n",
      "index = is\t\ttoken = 10\n"
     ]
    }
   ],
   "source": [
    "# token to index\n",
    "idx_limit = 10\n",
    "for idx, (k, v) in enumerate(token2idx_en.items()):\n",
    "    print(f'index = {k}\\t\\ttoken = {v}')\n",
    "    if idx == idx_limit:\n",
    "        break"
   ]
  },
  {
   "cell_type": "code",
   "execution_count": 9,
   "metadata": {},
   "outputs": [
    {
     "name": "stdout",
     "output_type": "stream",
     "text": [
      "index = 0\t\ttoken = <unk>\n",
      "index = 1\t\ttoken = <pad>\n",
      "index = 2\t\ttoken = <start>\n",
      "index = 3\t\ttoken = <end>\n",
      "index = 4\t\ttoken = a\n",
      "index = 5\t\ttoken = .\n",
      "index = 6\t\ttoken = A\n",
      "index = 7\t\ttoken = in\n",
      "index = 8\t\ttoken = the\n",
      "index = 9\t\ttoken = on\n",
      "index = 10\t\ttoken = is\n"
     ]
    }
   ],
   "source": [
    "# index to token\n",
    "idx_limit = 10\n",
    "for idx, (k, v) in enumerate(idx2token_en.items()):\n",
    "    print(f'index = {idx}\\t\\ttoken = {v}')\n",
    "    if idx == idx_limit:\n",
    "        break"
   ]
  },
  {
   "cell_type": "markdown",
   "metadata": {},
   "source": [
    "# text indexing"
   ]
  },
  {
   "cell_type": "code",
   "execution_count": 10,
   "metadata": {},
   "outputs": [],
   "source": [
    "import torch"
   ]
  },
  {
   "cell_type": "code",
   "execution_count": 11,
   "metadata": {},
   "outputs": [],
   "source": [
    "def convert_text_to_indices(text, vocab, tokenizer, lang):\n",
    "    return [vocab['<start>']] + [vocab[token] for token in tokenizer.tokenize(lang, text.strip('\\n'))] + [vocab['<end>']]"
   ]
  },
  {
   "cell_type": "code",
   "execution_count": 12,
   "metadata": {},
   "outputs": [],
   "source": [
    "def dataset_to_indices(texts_src, texts_tgt, vocab_src, vocab_tgt, tokenizer_src, tokenizer_tgt):\n",
    "    data = []\n",
    "    for (src, tgt) in zip(texts_src, texts_tgt):\n",
    "        src_tensor = torch.tensor(convert_text_to_indices(lang='de', text=src, vocab=vocab_src, tokenizer=tokenizer_src), dtype=torch.long)\n",
    "        tgt_tensor = torch.tensor(convert_text_to_indices(lang='en', text=tgt, vocab=vocab_tgt, tokenizer=tokenizer_tgt), dtype=torch.long)\n",
    "        data.append((src_tensor, tgt_tensor))\n",
    "\n",
    "    return data"
   ]
  },
  {
   "cell_type": "code",
   "execution_count": 13,
   "metadata": {},
   "outputs": [],
   "source": [
    "# train dataset\n",
    "train_data = dataset_to_indices(texts_src=multi30.datasets['texts_src_de_train'],\n",
    "                                texts_tgt=multi30.datasets['texts_tgt_en_train'],\n",
    "                                vocab_src=token2idx_de,\n",
    "                                vocab_tgt=token2idx_en,\n",
    "                                tokenizer_src=tokenizer,\n",
    "                                tokenizer_tgt=tokenizer)"
   ]
  },
  {
   "cell_type": "code",
   "execution_count": 14,
   "metadata": {},
   "outputs": [],
   "source": [
    "# validation dataset\n",
    "valid_data = dataset_to_indices(texts_src=multi30.datasets['texts_src_de_valid'],\n",
    "                                texts_tgt=multi30.datasets['texts_tgt_en_valid'],\n",
    "                                vocab_src=token2idx_de,\n",
    "                                vocab_tgt=token2idx_en,\n",
    "                                tokenizer_src=tokenizer,\n",
    "                                tokenizer_tgt=tokenizer)"
   ]
  },
  {
   "cell_type": "code",
   "execution_count": 15,
   "metadata": {},
   "outputs": [
    {
     "data": {
      "text/plain": [
       "19219"
      ]
     },
     "execution_count": 15,
     "metadata": {},
     "output_type": "execute_result"
    }
   ],
   "source": [
    "# 学習データと検証データを結合したため，以下の単語がトークナイズできるようになった．\n",
    "# 学習データに入っていない単語を推測できるかは不明だが，楽しみ\n",
    "token2idx_de['Eisfischerhütte']"
   ]
  },
  {
   "cell_type": "markdown",
   "metadata": {},
   "source": [
    "# result of tokenized dataset"
   ]
  },
  {
   "cell_type": "code",
   "execution_count": 16,
   "metadata": {},
   "outputs": [
    {
     "name": "stdout",
     "output_type": "stream",
     "text": [
      "indexed text\n",
      "Input(de) tensor([   2,   21,   85,  256,   31,   86,   22,   93,    7,   16,  114, 5645,\n",
      "        3245,    3])\n",
      "Output(en) tensor([   2,   19,   25,   15, 1197,  817,   17,   58,   84,  332, 1319,    3])\n",
      "\n"
     ]
    }
   ],
   "source": [
    "print(f'indexed text')\n",
    "print(f'Input(de) {train_data[0][0]}')\n",
    "print(f'Output(en) {train_data[0][1]}')\n",
    "print('')"
   ]
  },
  {
   "cell_type": "code",
   "execution_count": 17,
   "metadata": {},
   "outputs": [
    {
     "name": "stdout",
     "output_type": "stream",
     "text": [
      "text from index\n",
      "Input(de) <start> Zwei junge weiße Männer sind im Freien in der Nähe vieler Büsche <end>\n",
      "Output(en) <start> Two young , White males are outside near many bushes <end>\n"
     ]
    }
   ],
   "source": [
    "print('text from index')\n",
    "print(f'Input(de) {\" \".join([idx2token_de[x.item()] for x in train_data[0][0]])}')\n",
    "print(f'Output(en) {\" \".join([idx2token_en[x.item()] for x in train_data[0][1]])}')"
   ]
  },
  {
   "cell_type": "markdown",
   "metadata": {},
   "source": [
    "# save tokenized dataset"
   ]
  },
  {
   "cell_type": "code",
   "execution_count": 21,
   "metadata": {},
   "outputs": [],
   "source": [
    "import pickle as pkl\n",
    "import os\n",
    "\n",
    "# save tokenized dataset\n",
    "directory_path = '../../data/processed/tokenized_data/'\n",
    "os.makedirs(directory_path, exist_ok=True)\n",
    "train_data_path = os.path.join(directory_path, 'train_data.pkl')\n",
    "valid_data_path = os.path.join(directory_path, 'valid_data.pkl')\n",
    "\n",
    "with open(train_data_path, 'wb') as f:\n",
    "    pkl.dump(train_data, f)\n",
    "with open(valid_data_path, 'wb') as f:\n",
    "    pkl.dump(valid_data, f)"
   ]
  },
  {
   "cell_type": "code",
   "execution_count": null,
   "metadata": {},
   "outputs": [
    {
     "data": {
      "text/plain": [
       "torch.Tensor"
      ]
     },
     "execution_count": 19,
     "metadata": {},
     "output_type": "execute_result"
    }
   ],
   "source": []
  },
  {
   "cell_type": "code",
   "execution_count": null,
   "metadata": {},
   "outputs": [],
   "source": []
  }
 ],
 "metadata": {
  "kernelspec": {
   "display_name": ".venv",
   "language": "python",
   "name": "python3"
  },
  "language_info": {
   "codemirror_mode": {
    "name": "ipython",
    "version": 3
   },
   "file_extension": ".py",
   "mimetype": "text/x-python",
   "name": "python",
   "nbconvert_exporter": "python",
   "pygments_lexer": "ipython3",
   "version": "3.10.12"
  }
 },
 "nbformat": 4,
 "nbformat_minor": 2
}

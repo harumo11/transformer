{
 "cells": [
  {
   "cell_type": "code",
   "execution_count": 16,
   "metadata": {},
   "outputs": [],
   "source": [
    "import sys"
   ]
  },
  {
   "cell_type": "code",
   "execution_count": 17,
   "metadata": {},
   "outputs": [],
   "source": [
    "# load local modules\n",
    "script_abs_path = '/home/sasatake/repos/python/transformer/script'\n",
    "sys.path.append(script_abs_path)\n",
    "\n",
    "from load_dataset import Multi30k\n",
    "from tokenizer import Tokenizer"
   ]
  },
  {
   "cell_type": "markdown",
   "metadata": {},
   "source": [
    "# load dataset"
   ]
  },
  {
   "cell_type": "code",
   "execution_count": 18,
   "metadata": {},
   "outputs": [],
   "source": [
    "# load dataset\n",
    "multi30 = Multi30k()"
   ]
  },
  {
   "cell_type": "markdown",
   "metadata": {},
   "source": [
    "# tokenize and add index"
   ]
  },
  {
   "cell_type": "code",
   "execution_count": 19,
   "metadata": {},
   "outputs": [],
   "source": [
    "# make vocab\n",
    "tokenizer = Tokenizer()\n",
    "token2idx_de, idx2token_de, counter_de = tokenizer.build_vocab(lang='de', texts=multi30.datasets['texts_src_de_train'])\n",
    "token2idx_en, idx2token_en, counter_en = tokenizer.build_vocab(lang='en', texts=multi30.datasets['texts_tgt_en_train'])"
   ]
  },
  {
   "cell_type": "code",
   "execution_count": 20,
   "metadata": {},
   "outputs": [
    {
     "name": "stdout",
     "output_type": "stream",
     "text": [
      "german vocab size : 19214\n",
      "english vocab size : 10837\n"
     ]
    }
   ],
   "source": [
    "print(f'german vocab size : {len(idx2token_de)}')\n",
    "print(f'english vocab size : {len(idx2token_en)}')"
   ]
  },
  {
   "cell_type": "markdown",
   "metadata": {},
   "source": [
    "# result : german"
   ]
  },
  {
   "cell_type": "code",
   "execution_count": null,
   "metadata": {},
   "outputs": [
    {
     "name": "stdout",
     "output_type": "stream",
     "text": [
      "index = <unk>\t\ttoken = 0\n",
      "index = <pad>\t\ttoken = 1\n",
      "index = <start>\t\ttoken = 2\n",
      "index = <end>\t\ttoken = 3\n",
      "index = .\t\ttoken = 4\n",
      "index = Ein\t\ttoken = 5\n",
      "index = einem\t\ttoken = 6\n",
      "index = in\t\ttoken = 7\n",
      "index = ,\t\ttoken = 8\n",
      "index = und\t\ttoken = 9\n",
      "index = mit\t\ttoken = 10\n"
     ]
    }
   ],
   "source": [
    "# token to index\n",
    "idx_limit = 10\n",
    "for idx, (k, v) in enumerate(token2idx_de.items()):\n",
    "    print(f'index = {k}\\t\\ttoken = {v}')\n",
    "    if idx == idx_limit:\n",
    "        break"
   ]
  },
  {
   "cell_type": "code",
   "execution_count": null,
   "metadata": {},
   "outputs": [
    {
     "name": "stdout",
     "output_type": "stream",
     "text": [
      "index = 0\t\ttoken = <unk>\n",
      "index = 1\t\ttoken = <pad>\n",
      "index = 2\t\ttoken = <start>\n",
      "index = 3\t\ttoken = <end>\n",
      "index = 4\t\ttoken = .\n",
      "index = 5\t\ttoken = Ein\n",
      "index = 6\t\ttoken = einem\n",
      "index = 7\t\ttoken = in\n",
      "index = 8\t\ttoken = ,\n",
      "index = 9\t\ttoken = und\n",
      "index = 10\t\ttoken = mit\n"
     ]
    }
   ],
   "source": [
    "# index to token\n",
    "idx_limit = 10\n",
    "for idx, (k, v) in enumerate(idx2token_de.items()):\n",
    "    print(f'index = {idx}\\t\\ttoken = {v}')\n",
    "    if idx == idx_limit:\n",
    "        break"
   ]
  },
  {
   "cell_type": "markdown",
   "metadata": {},
   "source": [
    "# result : english"
   ]
  },
  {
   "cell_type": "code",
   "execution_count": 30,
   "metadata": {},
   "outputs": [
    {
     "name": "stdout",
     "output_type": "stream",
     "text": [
      "index = <unk>\t\ttoken = 0\n",
      "index = <pad>\t\ttoken = 1\n",
      "index = <start>\t\ttoken = 2\n",
      "index = <end>\t\ttoken = 3\n",
      "index = a\t\ttoken = 4\n",
      "index = .\t\ttoken = 5\n",
      "index = A\t\ttoken = 6\n",
      "index = in\t\ttoken = 7\n",
      "index = the\t\ttoken = 8\n",
      "index = on\t\ttoken = 9\n",
      "index = is\t\ttoken = 10\n"
     ]
    }
   ],
   "source": [
    "# token to index\n",
    "idx_limit = 10\n",
    "for idx, (k, v) in enumerate(token2idx_en.items()):\n",
    "    print(f'index = {k}\\t\\ttoken = {v}')\n",
    "    if idx == idx_limit:\n",
    "        break"
   ]
  },
  {
   "cell_type": "code",
   "execution_count": 31,
   "metadata": {},
   "outputs": [
    {
     "name": "stdout",
     "output_type": "stream",
     "text": [
      "index = 0\t\ttoken = <unk>\n",
      "index = 1\t\ttoken = <pad>\n",
      "index = 2\t\ttoken = <start>\n",
      "index = 3\t\ttoken = <end>\n",
      "index = 4\t\ttoken = a\n",
      "index = 5\t\ttoken = .\n",
      "index = 6\t\ttoken = A\n",
      "index = 7\t\ttoken = in\n",
      "index = 8\t\ttoken = the\n",
      "index = 9\t\ttoken = on\n",
      "index = 10\t\ttoken = is\n"
     ]
    }
   ],
   "source": [
    "# index to token\n",
    "idx_limit = 10\n",
    "for idx, (k, v) in enumerate(idx2token_en.items()):\n",
    "    print(f'index = {idx}\\t\\ttoken = {v}')\n",
    "    if idx == idx_limit:\n",
    "        break"
   ]
  },
  {
   "cell_type": "code",
   "execution_count": null,
   "metadata": {},
   "outputs": [],
   "source": []
  }
 ],
 "metadata": {
  "kernelspec": {
   "display_name": ".venv",
   "language": "python",
   "name": "python3"
  },
  "language_info": {
   "codemirror_mode": {
    "name": "ipython",
    "version": 3
   },
   "file_extension": ".py",
   "mimetype": "text/x-python",
   "name": "python",
   "nbconvert_exporter": "python",
   "pygments_lexer": "ipython3",
   "version": "3.10.12"
  }
 },
 "nbformat": 4,
 "nbformat_minor": 2
}

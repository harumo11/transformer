{
 "cells": [
  {
   "cell_type": "code",
   "execution_count": null,
   "id": "29835fff",
   "metadata": {},
   "outputs": [],
   "source": [
    "from pathlib import Path\n",
    "import math\n",
    "import time\n",
    "from collections import Counter\n",
    "from tqdm import tqdm\n",
    "import torch\n",
    "import torch.nn as nn\n",
    "from torch import Tensor\n",
    "from torch.nn import (\n",
    "    TransformerEncoder, TransformerDecoder,\n",
    "    TransformerEncoderLayer, TransformerDecoderLayer\n",
    ")\n",
    "from torch.nn.utils.rnn import pad_sequence\n",
    "from torch.utils.data import DataLoader"
   ]
  },
  {
   "cell_type": "code",
   "execution_count": null,
   "id": "dd436f1a",
   "metadata": {},
   "outputs": [],
   "source": [
    "device = torch.device('cuda:0' if torch.cuda.is_available() else 'cpu')"
   ]
  },
  {
   "cell_type": "markdown",
   "id": "356ee956",
   "metadata": {},
   "source": [
    "# 学習用データのロード"
   ]
  },
  {
   "cell_type": "code",
   "execution_count": 5,
   "id": "a6363b83",
   "metadata": {},
   "outputs": [],
   "source": [
    "file_paths_train = [\n",
    "    '../../data/processed/multi30k_unziped/train.de.txt',\n",
    "    '../../data/processed/multi30k_unziped/train.en.txt',\n",
    "]\n",
    "\n",
    "file_paths_valid = [\n",
    "    '../../data/processed/multi30k_unziped/val.de.txt',\n",
    "    '../../data/processed/multi30k_unziped/val.en.txt',\n",
    "]\n",
    "\n",
    "def read_texts(file_path):\n",
    "    with open(file_path, 'r') as file:\n",
    "        texts = file.readlines()\n",
    "    return texts\n",
    "\n",
    "texts_src_train = read_texts(file_paths_train[0])\n",
    "texts_tgt_train = read_texts(file_paths_train[1])\n",
    "texts_src_valid = read_texts(file_paths_valid[0])\n",
    "texts_tgt_valid = read_texts(file_paths_valid[1])"
   ]
  },
  {
   "cell_type": "code",
   "execution_count": 6,
   "id": "412c213b",
   "metadata": {},
   "outputs": [
    {
     "name": "stdout",
     "output_type": "stream",
     "text": [
      "Zwei junge weiße Männer sind im Freien in der Nähe vieler Büsche.\n",
      "↓\n",
      "Two young, White males are outside near many bushes.\n",
      "\n",
      "Mehrere Männer mit Schutzhelmen bedienen ein Antriebsradsystem.\n",
      "↓\n",
      "Several men in hard hats are operating a giant pulley system.\n",
      "\n",
      "Ein kleines Mädchen klettert in ein Spielhaus aus Holz.\n",
      "↓\n",
      "A little girl climbing into a wooden playhouse.\n",
      "\n"
     ]
    }
   ],
   "source": [
    "for src, tgt in zip(texts_src_train[:3], texts_tgt_train[:3]):\n",
    "    print(src.strip('\\n'))\n",
    "    print('↓')\n",
    "    print(tgt.strip('\\n'))\n",
    "    print('')"
   ]
  },
  {
   "cell_type": "markdown",
   "id": "038f72b0",
   "metadata": {},
   "source": [
    "# データを学習用の形式に加工する"
   ]
  },
  {
   "cell_type": "code",
   "execution_count": 7,
   "id": "68e294a0",
   "metadata": {},
   "outputs": [
    {
     "ename": "NameError",
     "evalue": "name 'get_tokenizer' is not defined",
     "output_type": "error",
     "traceback": [
      "\u001b[0;31m---------------------------------------------------------------------------\u001b[0m",
      "\u001b[0;31mNameError\u001b[0m                                 Traceback (most recent call last)",
      "Cell \u001b[0;32mIn[7], line 1\u001b[0m\n\u001b[0;32m----> 1\u001b[0m tokenizer_src \u001b[38;5;241m=\u001b[39m \u001b[43mget_tokenizer\u001b[49m(\u001b[38;5;124m'\u001b[39m\u001b[38;5;124mspacy\u001b[39m\u001b[38;5;124m'\u001b[39m, language\u001b[38;5;241m=\u001b[39m\u001b[38;5;124m'\u001b[39m\u001b[38;5;124mde_core_news_sm\u001b[39m\u001b[38;5;124m'\u001b[39m)\n\u001b[1;32m      2\u001b[0m tokenizer_tgt \u001b[38;5;241m=\u001b[39m get_tokenizer(\u001b[38;5;124m'\u001b[39m\u001b[38;5;124mspacy\u001b[39m\u001b[38;5;124m'\u001b[39m, language\u001b[38;5;241m=\u001b[39m\u001b[38;5;124m'\u001b[39m\u001b[38;5;124men_core_web_sm\u001b[39m\u001b[38;5;124m'\u001b[39m)\n",
      "\u001b[0;31mNameError\u001b[0m: name 'get_tokenizer' is not defined"
     ]
    }
   ],
   "source": [
    "tokenizer_src = get_tokenizer('spacy', language='de_core_news_sm')\n",
    "tokenizer_tgt = get_tokenizer('spacy', language='en_core_web_sm')"
   ]
  },
  {
   "cell_type": "code",
   "execution_count": null,
   "id": "9e201f5a",
   "metadata": {},
   "outputs": [],
   "source": []
  }
 ],
 "metadata": {
  "kernelspec": {
   "display_name": ".venv",
   "language": "python",
   "name": "python3"
  },
  "language_info": {
   "codemirror_mode": {
    "name": "ipython",
    "version": 3
   },
   "file_extension": ".py",
   "mimetype": "text/x-python",
   "name": "python",
   "nbconvert_exporter": "python",
   "pygments_lexer": "ipython3",
   "version": "3.10.12"
  }
 },
 "nbformat": 4,
 "nbformat_minor": 5
}

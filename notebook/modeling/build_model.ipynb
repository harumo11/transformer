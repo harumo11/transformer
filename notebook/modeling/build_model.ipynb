{
 "cells": [
  {
   "cell_type": "code",
   "execution_count": 1,
   "metadata": {},
   "outputs": [],
   "source": [
    "from torch.nn.utils.rnn import pad_sequence\n",
    "from torch.utils.data import DataLoader\n",
    "import pickle as pkl"
   ]
  },
  {
   "cell_type": "markdown",
   "metadata": {},
   "source": [
    "# load tokenized dataset"
   ]
  },
  {
   "cell_type": "code",
   "execution_count": 2,
   "metadata": {},
   "outputs": [],
   "source": [
    "dataset_dir_path = '../../data/processed/tokenized_data/'\n",
    "with open(dataset_dir_path + 'train_data.pkl', 'rb') as f:\n",
    "    tokenized_train_data = pkl.load(f)\n",
    "\n",
    "with open(dataset_dir_path + 'valid_data.pkl', 'rb') as f:\n",
    "    tokenized_valid_data = pkl.load(f)"
   ]
  },
  {
   "cell_type": "code",
   "execution_count": 3,
   "metadata": {},
   "outputs": [
    {
     "name": "stdout",
     "output_type": "stream",
     "text": [
      "Input(de) tensor([   2,   21,   85,  256,   31,   86,   22,   93,    7,   16,  114, 5645,\n",
      "        3245,    3])\n",
      "Output(en) tensor([   2,   19,   25,   15, 1197,  817,   17,   58,   84,  332, 1319,    3])\n"
     ]
    }
   ],
   "source": [
    "print(f'Input(de) {tokenized_train_data[0][0]}')\n",
    "print(f'Output(en) {tokenized_train_data[0][1]}')"
   ]
  },
  {
   "cell_type": "markdown",
   "metadata": {},
   "source": [
    "# load vocab"
   ]
  },
  {
   "cell_type": "code",
   "execution_count": 4,
   "metadata": {},
   "outputs": [],
   "source": [
    "vocab_dir_path = '../../data/processed/vocab/'\n",
    "\n",
    "with open(vocab_dir_path + 'token2idx_de.pkl', 'rb') as f:\n",
    "    token2idx_de= pkl.load(f)\n",
    "with open(vocab_dir_path + 'token2idx_en.pkl', 'rb') as f:\n",
    "    token2idx_en = pkl.load(f)\n",
    "with open(vocab_dir_path + 'idx2token_de.pkl', 'rb') as f:\n",
    "    idx2token_de = pkl.load(f)\n",
    "with open(vocab_dir_path + 'idx2token_en.pkl', 'rb') as f:\n",
    "    idx2token_en = pkl.load(f)"
   ]
  },
  {
   "cell_type": "markdown",
   "metadata": {},
   "source": [
    "# making the batch"
   ]
  },
  {
   "cell_type": "code",
   "execution_count": 5,
   "metadata": {},
   "outputs": [],
   "source": [
    "batch_size = 128\n",
    "PAD_INDEX = token2idx_de['<pad>']\n",
    "START_INDEX = token2idx_en['<start>']\n",
    "END_INDEX = token2idx_en['<end>']"
   ]
  },
  {
   "cell_type": "code",
   "execution_count": 6,
   "metadata": {},
   "outputs": [],
   "source": [
    "def generate_batch(data_batch):\n",
    "    batch_src = []\n",
    "    batch_tgt = []\n",
    "    for src, tgt in data_batch:\n",
    "        batch_src.append(src)\n",
    "        batch_tgt.append(tgt)\n",
    "    \n",
    "    batch_src = pad_sequence(batch_src, padding_value=PAD_INDEX)\n",
    "    batch_tgt = pad_sequence(batch_tgt, padding_value=PAD_INDEX)\n",
    "\n",
    "    return batch_src, batch_tgt"
   ]
  },
  {
   "cell_type": "code",
   "execution_count": 7,
   "metadata": {},
   "outputs": [],
   "source": [
    "train_iter = DataLoader(tokenized_train_data, batch_size=batch_size, shuffle=True, collate_fn=generate_batch)\n",
    "valid_iter = DataLoader(tokenized_valid_data, batch_size=batch_size, shuffle=True, collate_fn=generate_batch)"
   ]
  },
  {
   "cell_type": "code",
   "execution_count": 8,
   "metadata": {},
   "outputs": [
    {
     "data": {
      "text/plain": [
       "(tensor([[   2,    2,    2,  ...,    2,    2,    2],\n",
       "         [2004,   14,  126,  ...,   14,   60,    5],\n",
       "         [4482,   17,  324,  ...,   17,   48, 5151],\n",
       "         ...,\n",
       "         [   1,    1,    1,  ...,    1,    1,    1],\n",
       "         [   1,    1,    1,  ...,    1,    1,    1],\n",
       "         [   1,    1,    1,  ...,    1,    1,    1]]),\n",
       " tensor([[   2,    2,    2,  ...,    2,    2,    2],\n",
       "         [1244,    6,   49,  ...,    6,   59,    6],\n",
       "         [1935,   16,  164,  ...,   16,   22,  650],\n",
       "         ...,\n",
       "         [   1,    1,    1,  ...,    1,    1,    1],\n",
       "         [   1,    1,    1,  ...,    1,    1,    1],\n",
       "         [   1,    1,    1,  ...,    1,    1,    1]]))"
      ]
     },
     "execution_count": 8,
     "metadata": {},
     "output_type": "execute_result"
    }
   ],
   "source": [
    "# show train_iter\n",
    "# each column is a text\n",
    "list(train_iter)[0]"
   ]
  },
  {
   "cell_type": "code",
   "execution_count": 9,
   "metadata": {},
   "outputs": [
    {
     "name": "stdout",
     "output_type": "stream",
     "text": [
      "tensor([[  2,   2,   2,  ...,   2,   2,   2],\n",
      "        [  5,  14,  14,  ...,   5, 247,  14],\n",
      "        [ 12,  17,  17,  ...,  12,   7,  17],\n",
      "        ...,\n",
      "        [  1,   1,   1,  ...,   1,   1,   1],\n",
      "        [  1,   1,   1,  ...,   1,   1,   1],\n",
      "        [  1,   1,   1,  ...,   1,   1,   1]])\n",
      "tensor([[   2,    2,    2,  ...,    2,    2,    2],\n",
      "        [   6,    6,    6,  ...,    6, 1908,  274],\n",
      "        [  12,   16,   16,  ...,   12, 1917,   21],\n",
      "        ...,\n",
      "        [   1,    1,    1,  ...,    1,    1,    1],\n",
      "        [   1,    1,    1,  ...,    1,    1,    1],\n",
      "        [   1,    1,    1,  ...,    1,    1,    1]])\n",
      "src shape : torch.Size([29, 128])\n",
      "tgt.shape : torch.Size([30, 128])\n"
     ]
    }
   ],
   "source": [
    "for src, tgt in train_iter:\n",
    "    print(src)\n",
    "    print(tgt)\n",
    "    print(f'src shape : {src.shape}')\n",
    "    print(f'tgt.shape : {tgt.shape}')\n",
    "    break"
   ]
  },
  {
   "cell_type": "markdown",
   "metadata": {},
   "source": [
    "# Model"
   ]
  },
  {
   "cell_type": "code",
   "execution_count": 10,
   "metadata": {},
   "outputs": [],
   "source": [
    "import math\n",
    "import torch\n",
    "import torch.nn as nn\n",
    "from torch import Tensor"
   ]
  },
  {
   "cell_type": "markdown",
   "metadata": {},
   "source": [
    "## token embedding"
   ]
  },
  {
   "cell_type": "code",
   "execution_count": 11,
   "metadata": {},
   "outputs": [],
   "source": [
    "class TokenEmbedding(nn.Module):\n",
    "    def __init__(self, vocab_size, embedding_size):\n",
    "        super().__init__()\n",
    "        # nn.Embedding is a simple lookup table.\n",
    "        # if token index is set, it will return the corresponding embedding vector.\n",
    "        self.embedding = nn.Embedding(vocab_size, embedding_size)\n",
    "        self.embedding_size = embedding_size\n",
    "    \n",
    "    def forward(self, tokens: Tensor):\n",
    "        # the reason for this multiply is to align the range of the values\n",
    "        # It is to make the positional encoding relatively smaller. \n",
    "        # This means the original meaning in the embedding vector won’t be lost \n",
    "        # when we add them together.\n",
    "        return self.embedding(tokens.long()) * math.sqrt(self.embedding_size)"
   ]
  },
  {
   "cell_type": "markdown",
   "metadata": {},
   "source": [
    "## positional encoging"
   ]
  },
  {
   "cell_type": "code",
   "execution_count": 16,
   "metadata": {},
   "outputs": [],
   "source": [
    "class PositionalEncoding(nn.Module):\n",
    "    \n",
    "    def __init__(self, embedding_size: int, dropout: float, maxlen: int = 5000):\n",
    "        super().__init__()\n",
    "        \n",
    "        den = torch.exp(-torch.arange(0, embedding_size, 2) * math.log(10000) / embedding_size)\n",
    "        pos = torch.arange(0, maxlen).reshape(maxlen, 1)\n",
    "        embedding_pos = torch.zeros((maxlen, embedding_size))\n",
    "        embedding_pos[:, 0::2] = torch.sin(pos * den) # extract even element (start:stop:step)\n",
    "        embedding_pos[:, 1::2] = torch.cos(pos * den) # extract odd element (start:stop:step)\n",
    "        embedding_pos = embedding_pos.unsqueeze(-2)\n",
    "\n",
    "        self.dropout = nn.Dropout(dropout)\n",
    "        self.register_buffer('embedding_pos', embedding_pos) # positional encoding is not updated by learning\n",
    "\n",
    "    def forward(self, token_embedding: Tensor):\n",
    "        print(f'token_embedding : {token_embedding.shape}')\n",
    "        print(f'positional_encoding : {self.embedding_pos.shape}') # self.embedding_pos is defined by self.register_fuffer.\n",
    "        # self.embedding_pos is not updated by learning\n",
    "        print(f'positional_encoding : {self.embedding_pos[:token_embedding.size(0), :].shape}')\n",
    "        return self.dropout(token_embedding + self.embedding_pos[:token_embedding.size(0), :])"
   ]
  },
  {
   "cell_type": "markdown",
   "metadata": {},
   "source": [
    "## masking"
   ]
  },
  {
   "cell_type": "code",
   "execution_count": null,
   "metadata": {},
   "outputs": [],
   "source": [
    "def generate_square_subsequent_mask(seq_len, PAD_INDEX):\n",
    "    # seq_len is the length of the sentence\n",
    "    # The mask is used to prevent the model from looking ahead in the sequence.\n",
    "    # The mask is a square matrix of size (seq_len, seq_len)\n",
    "    # The upper triangle of the matrix is filled with -inf\n",
    "    # The lower triangle of the matrix is filled with 0\n",
    "    mask = torch.triu(torch.ones(seq_len, seq_len), diagonal=1).T\n",
    "    mask = mask.float().masked_fill(mask == 1, float('-inf')).masked_fill(mask == 0, float(0.0)) # 1 -> -inf, 0 -> 0\n",
    "    return mask\n",
    "\n",
    "def create_mask(src, tgt, PAD_INDEX):\n",
    "    device = torch.device('cuda' if torch.cuda.is_available() else 'cpu')\n",
    "\n",
    "    seq_len_src = src.shape[0] # word number in one sentence in source\n",
    "    seq_len_tgt = tgt.shape[0] # word number in one sentence in target\n",
    "\n",
    "    mask_tgt = generate_square_subsequent_mask(seq_len_tgt)\n",
    "    mask_src = torch.zeros((seq_len_src, seq_len_src), device=device).type(torch.bool)\n",
    "\n",
    "    padding_mask_src = (src == PAD_INDEX).transpose(0, 1)\n",
    "    padding_mask_tgt = (tgt == PAD_INDEX).transpose(0, 1)\n",
    "\n",
    "    return mask_src, mask_tgt, padding_mask_src, padding_mask_tgt"
   ]
  },
  {
   "cell_type": "code",
   "execution_count": 14,
   "metadata": {},
   "outputs": [],
   "source": [
    "seq_len_src = src.shape[0]\n",
    "mask_src = torch.zeros((seq_len_src, seq_len_src)).type(torch.bool)"
   ]
  },
  {
   "cell_type": "code",
   "execution_count": 15,
   "metadata": {},
   "outputs": [
    {
     "data": {
      "text/plain": [
       "tensor([[False, False, False, False, False, False, False, False, False, False,\n",
       "         False, False, False, False, False, False, False, False, False, False,\n",
       "         False, False, False, False, False, False, False, False, False],\n",
       "        [False, False, False, False, False, False, False, False, False, False,\n",
       "         False, False, False, False, False, False, False, False, False, False,\n",
       "         False, False, False, False, False, False, False, False, False],\n",
       "        [False, False, False, False, False, False, False, False, False, False,\n",
       "         False, False, False, False, False, False, False, False, False, False,\n",
       "         False, False, False, False, False, False, False, False, False],\n",
       "        [False, False, False, False, False, False, False, False, False, False,\n",
       "         False, False, False, False, False, False, False, False, False, False,\n",
       "         False, False, False, False, False, False, False, False, False],\n",
       "        [False, False, False, False, False, False, False, False, False, False,\n",
       "         False, False, False, False, False, False, False, False, False, False,\n",
       "         False, False, False, False, False, False, False, False, False],\n",
       "        [False, False, False, False, False, False, False, False, False, False,\n",
       "         False, False, False, False, False, False, False, False, False, False,\n",
       "         False, False, False, False, False, False, False, False, False],\n",
       "        [False, False, False, False, False, False, False, False, False, False,\n",
       "         False, False, False, False, False, False, False, False, False, False,\n",
       "         False, False, False, False, False, False, False, False, False],\n",
       "        [False, False, False, False, False, False, False, False, False, False,\n",
       "         False, False, False, False, False, False, False, False, False, False,\n",
       "         False, False, False, False, False, False, False, False, False],\n",
       "        [False, False, False, False, False, False, False, False, False, False,\n",
       "         False, False, False, False, False, False, False, False, False, False,\n",
       "         False, False, False, False, False, False, False, False, False],\n",
       "        [False, False, False, False, False, False, False, False, False, False,\n",
       "         False, False, False, False, False, False, False, False, False, False,\n",
       "         False, False, False, False, False, False, False, False, False],\n",
       "        [False, False, False, False, False, False, False, False, False, False,\n",
       "         False, False, False, False, False, False, False, False, False, False,\n",
       "         False, False, False, False, False, False, False, False, False],\n",
       "        [False, False, False, False, False, False, False, False, False, False,\n",
       "         False, False, False, False, False, False, False, False, False, False,\n",
       "         False, False, False, False, False, False, False, False, False],\n",
       "        [False, False, False, False, False, False, False, False, False, False,\n",
       "         False, False, False, False, False, False, False, False, False, False,\n",
       "         False, False, False, False, False, False, False, False, False],\n",
       "        [False, False, False, False, False, False, False, False, False, False,\n",
       "         False, False, False, False, False, False, False, False, False, False,\n",
       "         False, False, False, False, False, False, False, False, False],\n",
       "        [False, False, False, False, False, False, False, False, False, False,\n",
       "         False, False, False, False, False, False, False, False, False, False,\n",
       "         False, False, False, False, False, False, False, False, False],\n",
       "        [False, False, False, False, False, False, False, False, False, False,\n",
       "         False, False, False, False, False, False, False, False, False, False,\n",
       "         False, False, False, False, False, False, False, False, False],\n",
       "        [False, False, False, False, False, False, False, False, False, False,\n",
       "         False, False, False, False, False, False, False, False, False, False,\n",
       "         False, False, False, False, False, False, False, False, False],\n",
       "        [False, False, False, False, False, False, False, False, False, False,\n",
       "         False, False, False, False, False, False, False, False, False, False,\n",
       "         False, False, False, False, False, False, False, False, False],\n",
       "        [False, False, False, False, False, False, False, False, False, False,\n",
       "         False, False, False, False, False, False, False, False, False, False,\n",
       "         False, False, False, False, False, False, False, False, False],\n",
       "        [False, False, False, False, False, False, False, False, False, False,\n",
       "         False, False, False, False, False, False, False, False, False, False,\n",
       "         False, False, False, False, False, False, False, False, False],\n",
       "        [False, False, False, False, False, False, False, False, False, False,\n",
       "         False, False, False, False, False, False, False, False, False, False,\n",
       "         False, False, False, False, False, False, False, False, False],\n",
       "        [False, False, False, False, False, False, False, False, False, False,\n",
       "         False, False, False, False, False, False, False, False, False, False,\n",
       "         False, False, False, False, False, False, False, False, False],\n",
       "        [False, False, False, False, False, False, False, False, False, False,\n",
       "         False, False, False, False, False, False, False, False, False, False,\n",
       "         False, False, False, False, False, False, False, False, False],\n",
       "        [False, False, False, False, False, False, False, False, False, False,\n",
       "         False, False, False, False, False, False, False, False, False, False,\n",
       "         False, False, False, False, False, False, False, False, False],\n",
       "        [False, False, False, False, False, False, False, False, False, False,\n",
       "         False, False, False, False, False, False, False, False, False, False,\n",
       "         False, False, False, False, False, False, False, False, False],\n",
       "        [False, False, False, False, False, False, False, False, False, False,\n",
       "         False, False, False, False, False, False, False, False, False, False,\n",
       "         False, False, False, False, False, False, False, False, False],\n",
       "        [False, False, False, False, False, False, False, False, False, False,\n",
       "         False, False, False, False, False, False, False, False, False, False,\n",
       "         False, False, False, False, False, False, False, False, False],\n",
       "        [False, False, False, False, False, False, False, False, False, False,\n",
       "         False, False, False, False, False, False, False, False, False, False,\n",
       "         False, False, False, False, False, False, False, False, False],\n",
       "        [False, False, False, False, False, False, False, False, False, False,\n",
       "         False, False, False, False, False, False, False, False, False, False,\n",
       "         False, False, False, False, False, False, False, False, False]])"
      ]
     },
     "execution_count": 15,
     "metadata": {},
     "output_type": "execute_result"
    }
   ],
   "source": [
    "mask_src"
   ]
  },
  {
   "cell_type": "code",
   "execution_count": 17,
   "metadata": {},
   "outputs": [],
   "source": [
    "from torch.nn import TransformerEncoder, TransformerDecoder, TransformerEncoderLayer, TransformerDecoderLayer"
   ]
  },
  {
   "cell_type": "code",
   "execution_count": 18,
   "metadata": {},
   "outputs": [],
   "source": [
    "class Seq2SeqTransformer(nn.Module):\n",
    "    def __init__(self, num_encoder_layers: int, num_decoder_layers: int, embedding_size: int, vocab_size_src: int, vocab_size_tgt: int, dim_feedforward: int = 512, dropout: float = 0.1, nhead:int = 8):\n",
    "        super().__init__()\n",
    "\n",
    "        self.token_embedding_src = TokenEmbedding(vocab_size_src, embedding_size)\n",
    "        self.positional_encoding = PositionalEncoding(embedding_size, dropout=dropout)\n",
    "        encoder_layer = TransformerEncoderLayer(d_model=embedding_size, nhead=nhead, dim_feedforward=dim_feedforward, dropout=dropout)\n",
    "        self.transformer_encoder = TransformerEncoder(encoder_layer=encoder_layer, num_layers=num_encoder_layers)\n",
    "\n",
    "        self.token_embedding_tgt = TokenEmbedding(vocab_size_tgt, embedding_size)\n",
    "        decoder_layer = TransformerDecoderLayer(d_model=embedding_size, nhead=nhead, dim_feedforward=dim_feedforward, dropout=dropout)\n",
    "        self.transformer_decoder = TransformerDecoder(decoder_layer=decoder_layer, num_layers=num_decoder_layers)\n",
    "        self.output = nn.Linear(embedding_size, vocab_size_tgt)\n",
    "    \n",
    "    def forward(self, src: Tensor, tgt: Tensor, mask_src: Tensor, mask_tgt: Tensor, padding_mask_src: Tensor, padding_mask_tgt: Tensor, memory_key_padding_mask: Tensor):\n",
    "        # src : (seq_len_src, batch_size)\n",
    "        # tgt : (seq_len_tgt, batch_size)\n",
    "        # mask_src : (seq_len_src, seq_len_src)\n",
    "        # mask_tgt : (seq_len_tgt, seq_len_tgt)\n",
    "        # padding_mask_src : (batch_size, seq_len_src)\n",
    "        # padding_mask_tgt : (batch_size, seq_len_tgt)\n",
    "\n",
    "        embedding_src = self.positional_encoding(self.token_embedding_src(src))\n",
    "        memory = self.transformer_encoder(embedding_src, mask_src, padding_mask_src)\n",
    "        embedding_tgt = self.positional_encoding(self.token_embedding_tgt(tgt))\n",
    "        outs = self.transformer_decoder(embedding_tgt, memory, mask_tgt, None, padding_mask_tgt, memory_key_padding_mask)\n",
    "        return self.output(outs)\n",
    "    \n",
    "    def encode(self, src: Tensor, mask_src: Tensor):\n",
    "        return self.transformer_encoder(self.positional_encoding(self.token_embedding_src(src)), mask_src)\n",
    "    \n",
    "    def decode(self, tgt: Tensor, memory: Tensor, mask_tgt: Tensor):\n",
    "        return self.transformer_decoder(self.positional_encoding(self.token_embedding_tgt(tgt), memory, mask_tgt))\n"
   ]
  },
  {
   "cell_type": "code",
   "execution_count": 19,
   "metadata": {},
   "outputs": [],
   "source": [
    "import tqdm"
   ]
  },
  {
   "cell_type": "code",
   "execution_count": null,
   "metadata": {},
   "outputs": [],
   "source": [
    "def train(model, data, optimizer, criterion, PAD_INDEX):\n",
    "    device = torch.device('cuda' if torch.cuda.is_available() else 'cpu')\n",
    "\n",
    "    model.train()\n",
    "    losses = 0.0\n",
    "    for src, tgt in tqdm(data):\n",
    "        src = src.to(device)\n",
    "        tgt = tgt.to(device)\n",
    "        input_tgt = tgt[:-1, :] # remove last token\n",
    "        mask_src, mask_tgt, padding_mask_src, padding_mask_tgt = create_mask(src, input_tgt, PAD_INDEX)\n",
    "\n",
    "        logits = model(src=src, tgt=input_tgt,\n",
    "                        maks_src=mask_src, mask_tgt=mask_tgt,\n",
    "                        padding_mask_src=padding_mask_src, padding_mask_tgt=padding_mask_tgt,\n",
    "                        memory_key_padding_mask=padding_mask_src)\n",
    "\n",
    "        optimizer.zero_grad()\n",
    "\n",
    "        output_tgt = tgt[1:, :] # remove first token\n",
    "        loss = criterion(logits.reshape(-1, logits.shape[-1]), output_tgt.reshape(-1))\n",
    "        loss.backward()\n",
    "\n",
    "        optimizer.step()\n",
    "        losses += loss.item()\n",
    "    \n",
    "    return losses / len(data)"
   ]
  },
  {
   "cell_type": "code",
   "execution_count": 21,
   "metadata": {},
   "outputs": [],
   "source": [
    "def evaluate(model, data, criterion, PAD_INDEX):\n",
    "    device = torch.device('cuda' if torch.cuda.is_available() else 'cpu')\n",
    "\n",
    "    model.eval()\n",
    "    losses = 0.0\n",
    "\n",
    "    for src, tgt in data:\n",
    "        src = src.to(device)\n",
    "        tgt = tgt.to(device)\n",
    "\n",
    "        input_tgt = tgt[:-1, :] # remove last token\n",
    "        mask_src, mask_tgt, padding_mask_src, padding_mask_tgt = create_mask(src, input_tgt, PAD_INDEX)\n",
    "        logits = model(src=src, tgt=input_tgt, \n",
    "                       padding_mask_src=padding_mask_src, padding_mask_tgt=padding_mask_tgt,\n",
    "                       memory_key_padding_mask=padding_mask_src)\n",
    "\n",
    "        output_tgt = tgt[1:, :] # remove first token\n",
    "        loss = criterion(logits.reshape(-1, logits.shape[-1]), output_tgt.reshape(-1))\n",
    "        losses += loss.item()\n",
    "\n",
    "    return losses / len(data)"
   ]
  },
  {
   "cell_type": "code",
   "execution_count": 22,
   "metadata": {},
   "outputs": [
    {
     "name": "stderr",
     "output_type": "stream",
     "text": [
      "/home/sasatake/repos/python/transformer/.venv/lib/python3.10/site-packages/torch/nn/modules/transformer.py:385: UserWarning: enable_nested_tensor is True, but self.use_nested_tensor is False because encoder_layer.self_attn.batch_first was not True(use batch_first for better inference performance)\n",
      "  warnings.warn(\n"
     ]
    }
   ],
   "source": [
    "device = torch.device('cuda' if torch.cuda.is_available() else 'cpu')\n",
    "\n",
    "vocab_size_src = len(token2idx_de)\n",
    "vocab_size_tgt = len(token2idx_en)\n",
    "embedding_size = 240 # smaller than original 512\n",
    "nhead = 8\n",
    "dim_feedforward = 100\n",
    "num_encoder_layers = 2\n",
    "num_decoder_layers = 2\n",
    "dropout = 0.1\n",
    "\n",
    "model = Seq2SeqTransformer(\n",
    "    num_encoder_layers=num_encoder_layers,\n",
    "    num_decoder_layers=num_decoder_layers,\n",
    "    embedding_size=embedding_size,\n",
    "    vocab_size_src=vocab_size_src,\n",
    "    vocab_size_tgt=vocab_size_tgt,\n",
    "    dim_feedforward=dim_feedforward,\n",
    "    dropout=dropout,\n",
    "    nhead=nhead\n",
    ")\n",
    "\n",
    "for p in model.parameters():\n",
    "    if p.dim() > 1:\n",
    "        nn.init.xavier_uniform_(p) # Xavier initialization\n",
    "\n",
    "model = model.to(device)\n",
    "\n",
    "criterion = torch.nn.CrossEntropyLoss(ignore_index=PAD_INDEX)\n",
    "optimizer = torch.optim.Adam(model.parameters())"
   ]
  },
  {
   "cell_type": "code",
   "execution_count": null,
   "metadata": {},
   "outputs": [],
   "source": [
    "import time\n",
    "\n",
    "epoch = 100\n",
    "best_loss = float('inf')\n",
    "best_model = None\n",
    "patience = 10\n",
    "counter = 0\n",
    "\n",
    "for loop in range(epoch):\n",
    "    start_time = time.time()\n",
    "\n",
    "    loss_train = train(\n",
    "        model=model, data=train_iter, optimizer=optimizer,\n",
    "        criterion=criterion, PAD_INDEX=PAD_INDEX\n",
    "    )\n",
    "\n",
    "    elapsed_time = time.time() - start_time\n",
    "    loss_valid = evaluate(\n",
    "        model=model, data=valid_iter, criterion=criterion, PAD_INDEX=PAD_INDEX\n",
    "    )\n",
    "\n",
    "    print(f'epoch: {loop+1}, train loss: {loss_train:.4f}, valid loss: {loss_valid:.4f}, elapsed time: {elapsed_time:.4f} sec')\n",
    "\n",
    "    if best_loss > loss_valid:\n",
    "        best_loss = loss_valid\n",
    "        best_model = model\n",
    "        counter = 0\n",
    "    \n",
    "    if counter > patience:\n",
    "        break\n",
    "\n",
    "    counter += 1"
   ]
  }
 ],
 "metadata": {
  "kernelspec": {
   "display_name": ".venv",
   "language": "python",
   "name": "python3"
  },
  "language_info": {
   "codemirror_mode": {
    "name": "ipython",
    "version": 3
   },
   "file_extension": ".py",
   "mimetype": "text/x-python",
   "name": "python",
   "nbconvert_exporter": "python",
   "pygments_lexer": "ipython3",
   "version": "3.10.12"
  }
 },
 "nbformat": 4,
 "nbformat_minor": 2
}

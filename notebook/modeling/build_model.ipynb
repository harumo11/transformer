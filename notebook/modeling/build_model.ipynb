{
 "cells": [
  {
   "cell_type": "code",
   "execution_count": 2,
   "metadata": {},
   "outputs": [],
   "source": [
    "from torch.nn.utils.rnn import pad_sequence\n",
    "from torch.utils.data import DataLoader\n",
    "import pickle as pkl"
   ]
  },
  {
   "cell_type": "markdown",
   "metadata": {},
   "source": [
    "# load tokenized dataset"
   ]
  },
  {
   "cell_type": "code",
   "execution_count": 3,
   "metadata": {},
   "outputs": [],
   "source": [
    "dataset_dir_path = '../../data/processed/tokenized_data/'\n",
    "with open(dataset_dir_path + 'train_data.pkl', 'rb') as f:\n",
    "    tokenized_train_data = pkl.load(f)\n",
    "\n",
    "with open(dataset_dir_path + 'valid_data.pkl', 'rb') as f:\n",
    "    tokenized_valid_data = pkl.load(f)"
   ]
  },
  {
   "cell_type": "code",
   "execution_count": 4,
   "metadata": {},
   "outputs": [
    {
     "name": "stdout",
     "output_type": "stream",
     "text": [
      "Input(de) tensor([   2,   21,   85,  256,   31,   86,   22,   93,    7,   16,  114, 5645,\n",
      "        3245,    3])\n",
      "Output(en) tensor([   2,   19,   25,   15, 1197,  817,   17,   58,   84,  332, 1319,    3])\n"
     ]
    }
   ],
   "source": [
    "print(f'Input(de) {tokenized_train_data[0][0]}')\n",
    "print(f'Output(en) {tokenized_train_data[0][1]}')"
   ]
  },
  {
   "cell_type": "markdown",
   "metadata": {},
   "source": [
    "# load vocab"
   ]
  },
  {
   "cell_type": "code",
   "execution_count": 5,
   "metadata": {},
   "outputs": [],
   "source": [
    "vocab_dir_path = '../../data/processed/vocab/'\n",
    "\n",
    "with open(vocab_dir_path + 'token2idx_de.pkl', 'rb') as f:\n",
    "    token2idx_de= pkl.load(f)\n",
    "with open(vocab_dir_path + 'token2idx_en.pkl', 'rb') as f:\n",
    "    token2idx_en = pkl.load(f)\n",
    "with open(vocab_dir_path + 'idx2token_de.pkl', 'rb') as f:\n",
    "    idx2token_de = pkl.load(f)\n",
    "with open(vocab_dir_path + 'idx2token_en.pkl', 'rb') as f:\n",
    "    idx2token_en = pkl.load(f)"
   ]
  },
  {
   "cell_type": "markdown",
   "metadata": {},
   "source": [
    "# making the batch"
   ]
  },
  {
   "cell_type": "code",
   "execution_count": 6,
   "metadata": {},
   "outputs": [],
   "source": [
    "batch_size = 128\n",
    "PAD_INDEX = token2idx_de['<pad>']\n",
    "START_INDEX = token2idx_en['<start>']\n",
    "END_INDEX = token2idx_en['<end>']"
   ]
  },
  {
   "cell_type": "code",
   "execution_count": 7,
   "metadata": {},
   "outputs": [],
   "source": [
    "def generate_batch(data_batch):\n",
    "    batch_src = []\n",
    "    batch_tgt = []\n",
    "    for src, tgt in data_batch:\n",
    "        batch_src.append(src)\n",
    "        batch_tgt.append(tgt)\n",
    "    \n",
    "    batch_src = pad_sequence(batch_src, padding_value=PAD_INDEX)\n",
    "    batch_tgt = pad_sequence(batch_tgt, padding_value=PAD_INDEX)\n",
    "\n",
    "    return batch_src, batch_tgt"
   ]
  },
  {
   "cell_type": "code",
   "execution_count": 8,
   "metadata": {},
   "outputs": [],
   "source": [
    "train_iter = DataLoader(tokenized_train_data, batch_size=batch_size, shuffle=True, collate_fn=generate_batch)\n",
    "valid_iter = DataLoader(tokenized_valid_data, batch_size=batch_size, shuffle=True, collate_fn=generate_batch)"
   ]
  },
  {
   "cell_type": "code",
   "execution_count": 9,
   "metadata": {},
   "outputs": [
    {
     "data": {
      "text/plain": [
       "(tensor([[   2,    2,    2,  ...,    2,    2,    2],\n",
       "         [   5,   14,   76,  ...,    5,   14,    5],\n",
       "         [1094,   17,   77,  ..., 6631,   17, 3180],\n",
       "         ...,\n",
       "         [   1,    1,    1,  ...,    1,    1,    1],\n",
       "         [   1,    1,    1,  ...,    1,    1,    1],\n",
       "         [   1,    1,    1,  ...,    1,    1,    1]]),\n",
       " tensor([[   2,    2,    2,  ...,    2,    2,    2],\n",
       "         [   6,    6,   83,  ...,    6,    6,    6],\n",
       "         [ 563,   16,   42,  ...,  798,   16, 1290],\n",
       "         ...,\n",
       "         [   1,    1,    1,  ...,    1,    1,    1],\n",
       "         [   1,    1,    1,  ...,    1,    1,    1],\n",
       "         [   1,    1,    1,  ...,    1,    1,    1]]))"
      ]
     },
     "execution_count": 9,
     "metadata": {},
     "output_type": "execute_result"
    }
   ],
   "source": [
    "# show train_iter\n",
    "# each column is a text\n",
    "list(train_iter)[0]"
   ]
  },
  {
   "cell_type": "markdown",
   "metadata": {},
   "source": [
    "# Model"
   ]
  },
  {
   "cell_type": "code",
   "execution_count": 10,
   "metadata": {},
   "outputs": [],
   "source": [
    "import math\n",
    "import torch\n",
    "import torch.nn as nn\n",
    "from torch import Tensor"
   ]
  },
  {
   "cell_type": "markdown",
   "metadata": {},
   "source": [
    "## token embedding"
   ]
  },
  {
   "cell_type": "code",
   "execution_count": 11,
   "metadata": {},
   "outputs": [],
   "source": [
    "class TokenEmbedding(nn.Module):\n",
    "    def __init__(self, vocab_size, embedding_size):\n",
    "        super().__init__()\n",
    "        # nn.Embedding is a simple lookup table.\n",
    "        # if token index is set, it will return the corresponding embedding vector.\n",
    "        self.embedding = nn.Embedding(vocab_size, embedding_size)\n",
    "        self.embedding_size = embedding_size\n",
    "    \n",
    "    def forward(self, tokens: Tensor):\n",
    "        # the reason for this multiply is to align the range of the values\n",
    "        # It is to make the positional encoding relatively smaller. \n",
    "        # This means the original meaning in the embedding vector won’t be lost \n",
    "        # when we add them together.\n",
    "        return self.embedding(tokens.long()) * math.sqrt(self.embedding_size)"
   ]
  },
  {
   "cell_type": "code",
   "execution_count": 12,
   "metadata": {},
   "outputs": [],
   "source": [
    "token_embedding = TokenEmbedding(len(token2idx_de), 512)"
   ]
  },
  {
   "cell_type": "code",
   "execution_count": 13,
   "metadata": {},
   "outputs": [
    {
     "data": {
      "text/plain": [
       "19620"
      ]
     },
     "execution_count": 13,
     "metadata": {},
     "output_type": "execute_result"
    }
   ],
   "source": [
    "len(token2idx_de)"
   ]
  },
  {
   "cell_type": "code",
   "execution_count": 14,
   "metadata": {},
   "outputs": [
    {
     "name": "stdout",
     "output_type": "stream",
     "text": [
      "bached data shape : 26 words, 128 sentences\n",
      "bached data tensor([[   2,    2,    2,  ...,    2,    2,    2],\n",
      "        [ 830,    5,   87,  ...,  271,   14, 7218],\n",
      "        [  12,   12,   35,  ...,   31,   17,   59],\n",
      "        ...,\n",
      "        [   1,    1,    1,  ...,    1,    1,    1],\n",
      "        [   1,    1,    1,  ...,    1,    1,    1],\n",
      "        [   1,    1,    1,  ...,    1,    1,    1]])\n",
      "result shape : torch.Size([26, 128, 512])\n",
      "result tensor([[[-14.0476, -32.1047,  14.2814,  ...,  47.3367,  -1.9208,  12.9211],\n",
      "         [-14.0476, -32.1047,  14.2814,  ...,  47.3367,  -1.9208,  12.9211],\n",
      "         [-14.0476, -32.1047,  14.2814,  ...,  47.3367,  -1.9208,  12.9211],\n",
      "         ...,\n",
      "         [-14.0476, -32.1047,  14.2814,  ...,  47.3367,  -1.9208,  12.9211],\n",
      "         [-14.0476, -32.1047,  14.2814,  ...,  47.3367,  -1.9208,  12.9211],\n",
      "         [-14.0476, -32.1047,  14.2814,  ...,  47.3367,  -1.9208,  12.9211]],\n",
      "\n",
      "        [[ -1.5454, -11.5617, -12.6570,  ...,  11.8376,  17.6872,   8.2390],\n",
      "         [  7.6237,  -8.2394,   0.6813,  ...,  15.6112,  19.4401, -13.5726],\n",
      "         [-19.5112, -10.5014, -10.2166,  ..., -14.8989,   9.2183,  16.5572],\n",
      "         ...,\n",
      "         [ -1.1642,  -1.0069, -18.0395,  ...,   4.5748, -21.3932,  12.0170],\n",
      "         [ 21.0389, -12.5941,   7.6227,  ...,  -6.1452,  -0.5838,  31.3112],\n",
      "         [-12.3597,   0.5604, -22.1421,  ...,  19.1424,   9.0713, -19.0169]],\n",
      "\n",
      "        [[-21.3777,  -7.3621,  14.2188,  ...,   7.5088,  13.9436,  18.5899],\n",
      "         [-21.3777,  -7.3621,  14.2188,  ...,   7.5088,  13.9436,  18.5899],\n",
      "         [  2.4288,  -9.0612,  15.6267,  ...,  45.7838, -18.1537,   5.0770],\n",
      "         ...,\n",
      "         [-14.2921,  26.0089, -35.9045,  ..., -12.5073, -10.5462, -56.5051],\n",
      "         [ 12.2234, -19.6584,   4.5349,  ..., -19.8193, -11.6018, -61.3996],\n",
      "         [ -1.5192, -19.9665,  31.4741,  ...,  -0.7987,  13.1507, -29.8968]],\n",
      "\n",
      "        ...,\n",
      "\n",
      "        [[ 13.7020,  37.0928, -12.7557,  ...,  17.0676,  23.6886,  25.6497],\n",
      "         [ 13.7020,  37.0928, -12.7557,  ...,  17.0676,  23.6886,  25.6497],\n",
      "         [ 13.7020,  37.0928, -12.7557,  ...,  17.0676,  23.6886,  25.6497],\n",
      "         ...,\n",
      "         [ 13.7020,  37.0928, -12.7557,  ...,  17.0676,  23.6886,  25.6497],\n",
      "         [ 13.7020,  37.0928, -12.7557,  ...,  17.0676,  23.6886,  25.6497],\n",
      "         [ 13.7020,  37.0928, -12.7557,  ...,  17.0676,  23.6886,  25.6497]],\n",
      "\n",
      "        [[ 13.7020,  37.0928, -12.7557,  ...,  17.0676,  23.6886,  25.6497],\n",
      "         [ 13.7020,  37.0928, -12.7557,  ...,  17.0676,  23.6886,  25.6497],\n",
      "         [ 13.7020,  37.0928, -12.7557,  ...,  17.0676,  23.6886,  25.6497],\n",
      "         ...,\n",
      "         [ 13.7020,  37.0928, -12.7557,  ...,  17.0676,  23.6886,  25.6497],\n",
      "         [ 13.7020,  37.0928, -12.7557,  ...,  17.0676,  23.6886,  25.6497],\n",
      "         [ 13.7020,  37.0928, -12.7557,  ...,  17.0676,  23.6886,  25.6497]],\n",
      "\n",
      "        [[ 13.7020,  37.0928, -12.7557,  ...,  17.0676,  23.6886,  25.6497],\n",
      "         [ 13.7020,  37.0928, -12.7557,  ...,  17.0676,  23.6886,  25.6497],\n",
      "         [ 13.7020,  37.0928, -12.7557,  ...,  17.0676,  23.6886,  25.6497],\n",
      "         ...,\n",
      "         [ 13.7020,  37.0928, -12.7557,  ...,  17.0676,  23.6886,  25.6497],\n",
      "         [ 13.7020,  37.0928, -12.7557,  ...,  17.0676,  23.6886,  25.6497],\n",
      "         [ 13.7020,  37.0928, -12.7557,  ...,  17.0676,  23.6886,  25.6497]]],\n",
      "       grad_fn=<MulBackward0>)\n",
      "sqrt : 22.627416997969522\n"
     ]
    }
   ],
   "source": [
    "for src, tgt in train_iter:\n",
    "    print(f'bached data shape : {src.shape[0]} words, {src.shape[1]} sentences')\n",
    "    print(f'bached data {src}')\n",
    "    res = token_embedding.forward(src)\n",
    "    print(f'result shape : {res.shape}')\n",
    "    print(f'result {res}')\n",
    "    print(f'sqrt : {math.sqrt(token_embedding.embedding_size)}')\n",
    "    break"
   ]
  },
  {
   "cell_type": "markdown",
   "metadata": {},
   "source": [
    "## positional encoging"
   ]
  },
  {
   "cell_type": "code",
   "execution_count": 15,
   "metadata": {},
   "outputs": [
    {
     "data": {
      "image/png": "[encoded data removed]",
      "text/plain": [
       "<Figure size 640x480 with 1 Axes>"
      ]
     },
     "metadata": {},
     "output_type": "display_data"
    }
   ],
   "source": [
    "inx = torch.arange(0, 12, 2)\n",
    "outx = torch.exp(-inx)\n",
    "import matplotlib.pyplot as plt\n",
    "\n",
    "fig = plt.figure()\n",
    "ax = fig.add_subplot(111)\n",
    "ax.plot(inx, outx)\n",
    "plt.show()"
   ]
  },
  {
   "cell_type": "code",
   "execution_count": 16,
   "metadata": {},
   "outputs": [
    {
     "name": "stdout",
     "output_type": "stream",
     "text": [
      "den : torch.Size([3])\n",
      "den : tensor([1.0000, 0.0464, 0.0022])\n"
     ]
    }
   ],
   "source": [
    "maxlen = 5\n",
    "embedding_size = 6\n",
    "positional_encoding = torch.zeros(maxlen, embedding_size)\n",
    "for i, v in enumerate(positional_encoding):\n",
    "    positional_encoding[i, 0] = i\n",
    "\n",
    "den = torch.exp(-torch.arange(0, embedding_size, 2) * math.log(10000) / embedding_size)\n",
    "print(f'den : {den.shape}')\n",
    "print(f'den : {den}')"
   ]
  },
  {
   "cell_type": "code",
   "execution_count": 17,
   "metadata": {},
   "outputs": [
    {
     "name": "stdout",
     "output_type": "stream",
     "text": [
      "pos : torch.Size([5, 1])\n",
      "pos : tensor([[0],\n",
      "        [1],\n",
      "        [2],\n",
      "        [3],\n",
      "        [4]])\n"
     ]
    }
   ],
   "source": [
    "pos = torch.arange(0, maxlen).reshape(maxlen, 1)\n",
    "print(f'pos : {pos.shape}')\n",
    "print(f'pos : {pos}')"
   ]
  },
  {
   "cell_type": "code",
   "execution_count": 18,
   "metadata": {},
   "outputs": [
    {
     "name": "stdout",
     "output_type": "stream",
     "text": [
      "cross : torch.Size([5, 3])\n",
      "cross : tensor([[0.0000e+00, 0.0000e+00, 0.0000e+00],\n",
      "        [1.0000e+00, 4.6416e-02, 2.1544e-03],\n",
      "        [2.0000e+00, 9.2832e-02, 4.3089e-03],\n",
      "        [3.0000e+00, 1.3925e-01, 6.4633e-03],\n",
      "        [4.0000e+00, 1.8566e-01, 8.6177e-03]])\n"
     ]
    }
   ],
   "source": [
    "cross = pos * den\n",
    "print(f'cross : {cross.shape}')\n",
    "print(f'cross : {cross}')"
   ]
  },
  {
   "cell_type": "code",
   "execution_count": 19,
   "metadata": {},
   "outputs": [
    {
     "name": "stdout",
     "output_type": "stream",
     "text": [
      "positional_encoding : torch.Size([5, 6])\n",
      "tensor([[ 0.0000,  0.0000,  0.0000],\n",
      "        [ 0.8415,  0.0464,  0.0022],\n",
      "        [ 0.9093,  0.0927,  0.0043],\n",
      "        [ 0.1411,  0.1388,  0.0065],\n",
      "        [-0.7568,  0.1846,  0.0086]])\n"
     ]
    }
   ],
   "source": [
    "positional_encoding = torch.zeros((maxlen, embedding_size))\n",
    "print(f'positional_encoding : {positional_encoding.shape}')\n",
    "positional_encoding[:, 0::2] = torch.sin(cross)\n",
    "print(positional_encoding[:, 0::2])"
   ]
  },
  {
   "cell_type": "code",
   "execution_count": 20,
   "metadata": {},
   "outputs": [
    {
     "name": "stdout",
     "output_type": "stream",
     "text": [
      "tensor([[ 1.0000,  1.0000,  1.0000],\n",
      "        [ 0.5403,  0.9989,  1.0000],\n",
      "        [-0.4161,  0.9957,  1.0000],\n",
      "        [-0.9900,  0.9903,  1.0000],\n",
      "        [-0.6536,  0.9828,  1.0000]])\n"
     ]
    }
   ],
   "source": [
    "\n",
    "positional_encoding[:, 1::2] = torch.cos(cross)\n",
    "print(positional_encoding[:, 1::2])"
   ]
  },
  {
   "cell_type": "code",
   "execution_count": 21,
   "metadata": {},
   "outputs": [
    {
     "name": "stdout",
     "output_type": "stream",
     "text": [
      "before : torch.Size([5, 6])\n",
      "after : torch.Size([5, 1, 6])\n"
     ]
    }
   ],
   "source": [
    "print(f'before : {positional_encoding.shape}')\n",
    "positional_encoding = positional_encoding.unsqueeze(-2)\n",
    "print(f'after : {positional_encoding.shape}')\n"
   ]
  },
  {
   "cell_type": "code",
   "execution_count": null,
   "metadata": {},
   "outputs": [],
   "source": [
    "class PositionalEncoding(nn.Module):\n",
    "    \n",
    "    def __init__(self, embedding_size: int, dropout: float, maxlen: int = 5000):\n",
    "        super(PositionalEncoding, self).__init__()\n",
    "        \n",
    "        den = torch.exp(-torch.arange(0, embedding_size, 2) * math.log(10000) / embedding_size)\n",
    "        pos = torch.arange(0, maxlen).reshape(maxlen, 1)\n",
    "        embedding_pos = torch.zeros((maxlen, embedding_size))\n",
    "        embedding_pos[:, 0::2] = torch.sin(pos * den) # extract even element (start:stop:step)\n",
    "        embedding_pos[:, 1::2] = torch.cos(pos * den) # extract odd element (start:stop:step)\n",
    "        embedding_pos = embedding_pos.unsqueeze(-2)\n",
    "\n",
    "        self.dropout = nn.Dropout(dropout)\n",
    "        self.register_buffer('embedding_pos', embedding_pos) # positional encoding is not updated by learning\n",
    "\n",
    "    def forward(self, token_embedding: Tensor):\n",
    "        print(f'token_embedding : {token_embedding.shape}')\n",
    "        print(f'positional_encoding : {self.embedding_pos.shape}') # self.embedding_pos is defined by self.register_fuffer.\n",
    "        # self.embedding_pos is not updated by learning\n",
    "        print(f'positional_encoding : {self.embedding_pos[:token_embedding.size(0), :].shape}')\n",
    "        return self.dropout(token_embedding + self.embedding_pos[:token_embedding.size(0), :])"
   ]
  },
  {
   "cell_type": "code",
   "execution_count": 23,
   "metadata": {},
   "outputs": [
    {
     "name": "stdout",
     "output_type": "stream",
     "text": [
      "token_embedding : torch.Size([26, 128, 512])\n",
      "positional_encoding : torch.Size([5000, 1, 512])\n",
      "positional_encoding : torch.Size([26, 1, 512])\n"
     ]
    },
    {
     "data": {
      "text/plain": [
       "tensor([[[-15.6085, -34.5608,  15.8683,  ...,  53.7074,  -2.1342,  15.4679],\n",
       "         [-15.6085,  -0.0000,  15.8683,  ...,  53.7074,  -2.1342,  15.4679],\n",
       "         [-15.6085, -34.5608,  15.8683,  ...,  53.7074,  -2.1342,  15.4679],\n",
       "         ...,\n",
       "         [-15.6085,  -0.0000,  15.8683,  ...,  53.7074,  -2.1342,  15.4679],\n",
       "         [-15.6085, -34.5608,  15.8683,  ...,  53.7074,  -2.1342,  15.4679],\n",
       "         [-15.6085, -34.5608,  15.8683,  ...,  53.7074,  -2.1342,  15.4679]],\n",
       "\n",
       "        [[ -0.7822, -12.2461, -13.1501,  ...,   0.0000,  19.6526,  10.2656],\n",
       "         [  9.4058,  -8.5545,   1.6702,  ...,   0.0000,  21.6002, -13.9696],\n",
       "         [-20.7441, -11.0679, -10.4386,  ..., -15.4433,   0.0000,  19.5080],\n",
       "         ...,\n",
       "         [ -0.3586,  -0.5184, -19.1308,  ...,   6.1943,  -0.0000,  14.4633],\n",
       "         [ 24.3115, -13.3931,   0.0000,  ...,  -5.7169,  -0.6486,  35.9014],\n",
       "         [-12.7980,   1.2230, -23.6892,  ...,  22.3804,  10.0793, -20.0188]],\n",
       "\n",
       "        [[-22.7426,  -8.6425,  16.8391,  ...,   9.4542,  15.4932,  21.7665],\n",
       "         [-22.7426,  -8.6425,  16.8391,  ...,   9.4542,   0.0000,  21.7665],\n",
       "         [  3.7091, -10.5304,  18.4035,  ...,  51.9820, -20.1706,   6.7523],\n",
       "         ...,\n",
       "         [ -0.0000,  28.4364, -38.8534,  ..., -12.7859, -11.7178, -61.6723],\n",
       "         [ 14.5919, -22.3050,   6.0793,  ..., -20.9104, -12.8907, -67.1107],\n",
       "         [ -0.6777, -22.6474,  36.0117,  ...,   0.2237,  14.6121, -32.1076]],\n",
       "\n",
       "        ...,\n",
       "\n",
       "        [[ 14.2843,  40.6222, -14.3894,  ...,   0.0000,   0.0000,  29.6107],\n",
       "         [  0.0000,   0.0000, -14.3894,  ...,  20.0751,  26.3233,  29.6107],\n",
       "         [ 14.2843,  40.6222, -14.3894,  ...,  20.0751,  26.3233,  29.6107],\n",
       "         ...,\n",
       "         [ 14.2843,  40.6222,  -0.0000,  ...,  20.0751,   0.0000,  29.6107],\n",
       "         [ 14.2843,  40.6222, -14.3894,  ...,   0.0000,  26.3233,   0.0000],\n",
       "         [ 14.2843,  40.6222, -14.3894,  ...,  20.0751,   0.0000,  29.6107]],\n",
       "\n",
       "        [[ 14.2183,  41.6855, -15.1920,  ...,  20.0751,  26.3234,  29.6107],\n",
       "         [ 14.2183,  41.6855, -15.1920,  ...,  20.0751,  26.3234,  29.6107],\n",
       "         [ 14.2183,  41.6855, -15.1920,  ...,  20.0751,  26.3234,  29.6107],\n",
       "         ...,\n",
       "         [ 14.2183,  41.6855, -15.1920,  ...,  20.0751,   0.0000,  29.6107],\n",
       "         [  0.0000,  41.6855, -15.1920,  ...,  20.0751,   0.0000,  29.6107],\n",
       "         [ 14.2183,  41.6855,  -0.0000,  ...,  20.0751,  26.3234,   0.0000]],\n",
       "\n",
       "        [[ 15.0774,  42.3155, -15.1175,  ...,  20.0751,  26.3235,  29.6107],\n",
       "         [  0.0000,  42.3155, -15.1175,  ...,  20.0751,  26.3235,  29.6107],\n",
       "         [ 15.0774,  42.3155, -15.1175,  ...,  20.0751,  26.3235,  29.6107],\n",
       "         ...,\n",
       "         [ 15.0774,  42.3155, -15.1175,  ...,  20.0751,  26.3235,  29.6107],\n",
       "         [ 15.0774,  42.3155, -15.1175,  ...,  20.0751,  26.3235,  29.6107],\n",
       "         [ 15.0774,  42.3155, -15.1175,  ...,  20.0751,  26.3235,  29.6107]]],\n",
       "       grad_fn=<MulBackward0>)"
      ]
     },
     "execution_count": 23,
     "metadata": {},
     "output_type": "execute_result"
    }
   ],
   "source": [
    "positional_encoding = PositionalEncoding(512, 0.1)\n",
    "positional_encoding.forward(token_embedding.forward(src))"
   ]
  },
  {
   "cell_type": "code",
   "execution_count": 24,
   "metadata": {},
   "outputs": [
    {
     "data": {
      "text/plain": [
       "torch.Size([26, 1, 512])"
      ]
     },
     "execution_count": 24,
     "metadata": {},
     "output_type": "execute_result"
    }
   ],
   "source": [
    "positional_encoding.embedding_pos[:src.size(0), :].shape"
   ]
  },
  {
   "cell_type": "code",
   "execution_count": 25,
   "metadata": {},
   "outputs": [
    {
     "data": {
      "text/plain": [
       "torch.Size([5000, 1, 512])"
      ]
     },
     "execution_count": 25,
     "metadata": {},
     "output_type": "execute_result"
    }
   ],
   "source": [
    "positional_encoding.embedding_pos.shape"
   ]
  },
  {
   "cell_type": "code",
   "execution_count": null,
   "metadata": {},
   "outputs": [],
   "source": []
  }
 ],
 "metadata": {
  "kernelspec": {
   "display_name": ".venv",
   "language": "python",
   "name": "python3"
  },
  "language_info": {
   "codemirror_mode": {
    "name": "ipython",
    "version": 3
   },
   "file_extension": ".py",
   "mimetype": "text/x-python",
   "name": "python",
   "nbconvert_exporter": "python",
   "pygments_lexer": "ipython3",
   "version": "3.10.12"
  }
 },
 "nbformat": 4,
 "nbformat_minor": 2
}

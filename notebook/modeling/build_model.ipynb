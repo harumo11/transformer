{
 "cells": [
  {
   "cell_type": "code",
   "execution_count": 1,
   "metadata": {},
   "outputs": [],
   "source": [
    "from torch.nn.utils.rnn import pad_sequence\n",
    "from torch.utils.data import DataLoader\n",
    "import pickle as pkl"
   ]
  },
  {
   "cell_type": "markdown",
   "metadata": {},
   "source": [
    "# load tokenized dataset"
   ]
  },
  {
   "cell_type": "code",
   "execution_count": 2,
   "metadata": {},
   "outputs": [],
   "source": [
    "dataset_dir_path = '../../data/processed/tokenized_data/'\n",
    "with open(dataset_dir_path + 'train_data.pkl', 'rb') as f:\n",
    "    tokenized_train_data = pkl.load(f)\n",
    "\n",
    "with open(dataset_dir_path + 'valid_data.pkl', 'rb') as f:\n",
    "    tokenized_valid_data = pkl.load(f)"
   ]
  },
  {
   "cell_type": "code",
   "execution_count": 3,
   "metadata": {},
   "outputs": [
    {
     "name": "stdout",
     "output_type": "stream",
     "text": [
      "Input(de) tensor([   2,   21,   85,  256,   31,   86,   22,   93,    7,   16,  114, 5645,\n",
      "        3245,    3])\n",
      "Output(en) tensor([   2,   19,   25,   15, 1197,  817,   17,   58,   84,  332, 1319,    3])\n"
     ]
    }
   ],
   "source": [
    "print(f'Input(de) {tokenized_train_data[0][0]}')\n",
    "print(f'Output(en) {tokenized_train_data[0][1]}')"
   ]
  },
  {
   "cell_type": "markdown",
   "metadata": {},
   "source": [
    "# load vocab"
   ]
  },
  {
   "cell_type": "code",
   "execution_count": 4,
   "metadata": {},
   "outputs": [],
   "source": [
    "vocab_dir_path = '../../data/processed/vocab/'\n",
    "\n",
    "with open(vocab_dir_path + 'token2idx_de.pkl', 'rb') as f:\n",
    "    token2idx_de= pkl.load(f)\n",
    "with open(vocab_dir_path + 'token2idx_en.pkl', 'rb') as f:\n",
    "    token2idx_en = pkl.load(f)\n",
    "with open(vocab_dir_path + 'idx2token_de.pkl', 'rb') as f:\n",
    "    idx2token_de = pkl.load(f)\n",
    "with open(vocab_dir_path + 'idx2token_en.pkl', 'rb') as f:\n",
    "    idx2token_en = pkl.load(f)"
   ]
  },
  {
   "cell_type": "markdown",
   "metadata": {},
   "source": [
    "# making the batch"
   ]
  },
  {
   "cell_type": "code",
   "execution_count": 5,
   "metadata": {},
   "outputs": [],
   "source": [
    "batch_size = 128\n",
    "PAD_INDEX = token2idx_de['<pad>']\n",
    "START_INDEX = token2idx_en['<start>']\n",
    "END_INDEX = token2idx_en['<end>']"
   ]
  },
  {
   "cell_type": "code",
   "execution_count": 6,
   "metadata": {},
   "outputs": [],
   "source": [
    "def generate_batch(data_batch):\n",
    "    batch_src = []\n",
    "    batch_tgt = []\n",
    "    for src, tgt in data_batch:\n",
    "        batch_src.append(src)\n",
    "        batch_tgt.append(tgt)\n",
    "    \n",
    "    batch_src = pad_sequence(batch_src, padding_value=PAD_INDEX)\n",
    "    batch_tgt = pad_sequence(batch_tgt, padding_value=PAD_INDEX)\n",
    "\n",
    "    return batch_src, batch_tgt"
   ]
  },
  {
   "cell_type": "code",
   "execution_count": 7,
   "metadata": {},
   "outputs": [],
   "source": [
    "train_iter = DataLoader(tokenized_train_data, batch_size=batch_size, shuffle=True, collate_fn=generate_batch)\n",
    "valid_iter = DataLoader(tokenized_valid_data, batch_size=batch_size, shuffle=True, collate_fn=generate_batch)"
   ]
  },
  {
   "cell_type": "code",
   "execution_count": 8,
   "metadata": {},
   "outputs": [
    {
     "data": {
      "text/plain": [
       "(tensor([[    2,     2,     2,  ...,     2,     2,     2],\n",
       "         [    5,     5,     5,  ...,    76,     5,     5],\n",
       "         [   12,   229,    12,  ...,    77, 14797,    12],\n",
       "         ...,\n",
       "         [    1,     1,     1,  ...,     1,     1,     1],\n",
       "         [    1,     1,     1,  ...,     1,     1,     1],\n",
       "         [    1,     1,     1,  ...,     1,     1,     1]]),\n",
       " tensor([[   2,    2,    2,  ...,    2,    2,    2],\n",
       "         [   6,    6,    6,  ...,   83, 9033,  110],\n",
       "         [  12,  268,   12,  ...,  156,   43,   14],\n",
       "         ...,\n",
       "         [   1,    1,    1,  ...,    1,    1,    1],\n",
       "         [   1,    1,    1,  ...,    1,    1,    1],\n",
       "         [   1,    1,    1,  ...,    1,    1,    1]]))"
      ]
     },
     "execution_count": 8,
     "metadata": {},
     "output_type": "execute_result"
    }
   ],
   "source": [
    "# show train_iter\n",
    "# each column is a text\n",
    "list(train_iter)[0]"
   ]
  },
  {
   "cell_type": "code",
   "execution_count": 9,
   "metadata": {},
   "outputs": [
    {
     "name": "stdout",
     "output_type": "stream",
     "text": [
      "tensor([[   2,    2,    2,  ...,    2,    2,    2],\n",
      "        [   5,   60,    5,  ...,    5,  593,    5],\n",
      "        [  12,   31,   12,  ..., 3370,  169,  525],\n",
      "        ...,\n",
      "        [   1,    1,    1,  ...,    1,    1,    1],\n",
      "        [   1,    1,    1,  ...,    1,    1,    1],\n",
      "        [   1,    1,    1,  ...,    1,    1,    1]])\n",
      "tensor([[   2,    2,    2,  ...,    2,    2,    2],\n",
      "        [   6,   59,    6,  ...,    6,  275,    6],\n",
      "        [  12,   36,   12,  ..., 1607,  129,  693],\n",
      "        ...,\n",
      "        [   1,    1,    1,  ...,    1,    1,    1],\n",
      "        [   1,    1,    1,  ...,    1,    1,    1],\n",
      "        [   1,    1,    1,  ...,    1,    1,    1]])\n",
      "src shape : torch.Size([36, 128])\n",
      "tgt.shape : torch.Size([39, 128])\n"
     ]
    }
   ],
   "source": [
    "for src, tgt in train_iter:\n",
    "    print(src)\n",
    "    print(tgt)\n",
    "    print(f'src shape : {src.shape}')\n",
    "    print(f'tgt.shape : {tgt.shape}')\n",
    "    break"
   ]
  },
  {
   "cell_type": "markdown",
   "metadata": {},
   "source": [
    "# Model"
   ]
  },
  {
   "cell_type": "code",
   "execution_count": 10,
   "metadata": {},
   "outputs": [],
   "source": [
    "import math\n",
    "import torch\n",
    "import torch.nn as nn\n",
    "from torch import Tensor"
   ]
  },
  {
   "cell_type": "markdown",
   "metadata": {},
   "source": [
    "## token embedding"
   ]
  },
  {
   "cell_type": "code",
   "execution_count": 11,
   "metadata": {},
   "outputs": [],
   "source": [
    "class TokenEmbedding(nn.Module):\n",
    "    def __init__(self, vocab_size, embedding_size):\n",
    "        super().__init__()\n",
    "        # nn.Embedding is a simple lookup table.\n",
    "        # if token index is set, it will return the corresponding embedding vector.\n",
    "        self.embedding = nn.Embedding(vocab_size, embedding_size)\n",
    "        self.embedding_size = embedding_size\n",
    "    \n",
    "    def forward(self, tokens: Tensor):\n",
    "        # the reason for this multiply is to align the range of the values\n",
    "        # It is to make the positional encoding relatively smaller. \n",
    "        # This means the original meaning in the embedding vector won’t be lost \n",
    "        # when we add them together.\n",
    "        return self.embedding(tokens.long()) * math.sqrt(self.embedding_size)"
   ]
  },
  {
   "cell_type": "markdown",
   "metadata": {},
   "source": [
    "## positional encoging"
   ]
  },
  {
   "cell_type": "code",
   "execution_count": 12,
   "metadata": {},
   "outputs": [],
   "source": [
    "class PositionalEncoding(nn.Module):\n",
    "    \n",
    "    def __init__(self, embedding_size: int, dropout: float, maxlen: int = 5000):\n",
    "        super().__init__()\n",
    "        \n",
    "        den = torch.exp(-torch.arange(0, embedding_size, 2) * math.log(10000) / embedding_size)\n",
    "        pos = torch.arange(0, maxlen).reshape(maxlen, 1)\n",
    "        embedding_pos = torch.zeros((maxlen, embedding_size))\n",
    "        embedding_pos[:, 0::2] = torch.sin(pos * den) # extract even element (start:stop:step)\n",
    "        embedding_pos[:, 1::2] = torch.cos(pos * den) # extract odd element (start:stop:step)\n",
    "        embedding_pos = embedding_pos.unsqueeze(-2)\n",
    "\n",
    "        self.dropout = nn.Dropout(dropout)\n",
    "        self.register_buffer('embedding_pos', embedding_pos) # positional encoding is not updated by learning\n",
    "\n",
    "    def forward(self, token_embedding: Tensor):\n",
    "        #print(f'token_embedding : {token_embedding.shape}')\n",
    "        #print(f'positional_encoding : {self.embedding_pos.shape}') # self.embedding_pos is defined by self.register_fuffer.\n",
    "        # self.embedding_pos is not updated by learning\n",
    "        #print(f'positional_encoding : {self.embedding_pos[:token_embedding.size(0), :].shape}')\n",
    "        return self.dropout(token_embedding + self.embedding_pos[:token_embedding.size(0), :])"
   ]
  },
  {
   "cell_type": "markdown",
   "metadata": {},
   "source": [
    "## masking"
   ]
  },
  {
   "cell_type": "code",
   "execution_count": 13,
   "metadata": {},
   "outputs": [],
   "source": [
    "def generate_square_subsequent_mask(seq_len, PAD_INDEX):\n",
    "    device = torch.device('cuda' if torch.cuda.is_available() else 'cpu')\n",
    "    # seq_len is the length of the sentence\n",
    "    # The mask is used to prevent the model from looking ahead in the sequence.\n",
    "    # The mask is a square matrix of size (seq_len, seq_len)\n",
    "    # The upper triangle of the matrix is filled with -inf\n",
    "    # The lower triangle of the matrix is filled with 0\n",
    "    mask = (torch.triu(torch.ones((seq_len, seq_len), device=device)) == 1).transpose(0, 1) # upper triangle\n",
    "    mask = mask.float().masked_fill(mask == 1, float('-inf')).masked_fill(mask == PAD_INDEX, float(0.0)) # 1 -> -inf, 0 -> 0\n",
    "    return mask\n",
    "\n",
    "def create_mask(src, tgt, PAD_INDEX):\n",
    "    device = torch.device('cuda' if torch.cuda.is_available() else 'cpu')\n",
    "\n",
    "    seq_len_src = src.shape[0] # word number in one sentence in source\n",
    "    seq_len_tgt = tgt.shape[0] # word number in one sentence in target\n",
    "\n",
    "    mask_tgt = generate_square_subsequent_mask(seq_len_tgt, PAD_INDEX=PAD_INDEX)\n",
    "    mask_src = torch.zeros((seq_len_src, seq_len_src), device=device).type(torch.bool)\n",
    "\n",
    "    padding_mask_src = (src == PAD_INDEX).transpose(0, 1)\n",
    "    padding_mask_tgt = (tgt == PAD_INDEX).transpose(0, 1)\n",
    "\n",
    "    return mask_src, mask_tgt, padding_mask_src, padding_mask_tgt"
   ]
  },
  {
   "cell_type": "code",
   "execution_count": 14,
   "metadata": {},
   "outputs": [],
   "source": [
    "seq_len_src = src.shape[0]\n",
    "mask_src = torch.zeros((seq_len_src, seq_len_src)).type(torch.bool)"
   ]
  },
  {
   "cell_type": "code",
   "execution_count": 15,
   "metadata": {},
   "outputs": [
    {
     "data": {
      "text/plain": [
       "tensor([[False, False, False,  ..., False, False, False],\n",
       "        [False, False, False,  ..., False, False, False],\n",
       "        [False, False, False,  ..., False, False, False],\n",
       "        ...,\n",
       "        [False, False, False,  ..., False, False, False],\n",
       "        [False, False, False,  ..., False, False, False],\n",
       "        [False, False, False,  ..., False, False, False]])"
      ]
     },
     "execution_count": 15,
     "metadata": {},
     "output_type": "execute_result"
    }
   ],
   "source": [
    "mask_src"
   ]
  },
  {
   "cell_type": "code",
   "execution_count": 16,
   "metadata": {},
   "outputs": [],
   "source": [
    "from torch.nn import TransformerEncoder, TransformerDecoder, TransformerEncoderLayer, TransformerDecoderLayer"
   ]
  },
  {
   "cell_type": "code",
   "execution_count": 17,
   "metadata": {},
   "outputs": [],
   "source": [
    "class Seq2SeqTransformer(nn.Module):\n",
    "    def __init__(self, num_encoder_layers: int, num_decoder_layers: int, embedding_size: int, vocab_size_src: int, vocab_size_tgt: int, dim_feedforward: int = 512, dropout: float = 0.1, nhead:int = 8):\n",
    "        super().__init__()\n",
    "\n",
    "        self.token_embedding_src = TokenEmbedding(vocab_size_src, embedding_size)\n",
    "        self.positional_encoding = PositionalEncoding(embedding_size, dropout=dropout)\n",
    "        encoder_layer = TransformerEncoderLayer(d_model=embedding_size, nhead=nhead, dim_feedforward=dim_feedforward, dropout=dropout)\n",
    "        self.transformer_encoder = TransformerEncoder(encoder_layer=encoder_layer, num_layers=num_encoder_layers)\n",
    "\n",
    "        self.token_embedding_tgt = TokenEmbedding(vocab_size_tgt, embedding_size)\n",
    "        decoder_layer = TransformerDecoderLayer(d_model=embedding_size, nhead=nhead, dim_feedforward=dim_feedforward, dropout=dropout)\n",
    "        self.transformer_decoder = TransformerDecoder(decoder_layer=decoder_layer, num_layers=num_decoder_layers)\n",
    "        self.output = nn.Linear(embedding_size, vocab_size_tgt)\n",
    "    \n",
    "    def forward(self, src: Tensor, tgt: Tensor, mask_src: Tensor, mask_tgt: Tensor, padding_mask_src: Tensor, padding_mask_tgt: Tensor, memory_key_padding_mask: Tensor):\n",
    "        # src : (seq_len_src, batch_size)\n",
    "        # tgt : (seq_len_tgt, batch_size)\n",
    "        # mask_src : (seq_len_src, seq_len_src)\n",
    "        # mask_tgt : (seq_len_tgt, seq_len_tgt)\n",
    "        # padding_mask_src : (batch_size, seq_len_src)\n",
    "        # padding_mask_tgt : (batch_size, seq_len_tgt)\n",
    "\n",
    "        embedding_src = self.positional_encoding(self.token_embedding_src(src))\n",
    "        memory = self.transformer_encoder(embedding_src, mask_src, padding_mask_src)\n",
    "        embedding_tgt = self.positional_encoding(self.token_embedding_tgt(tgt))\n",
    "        outs = self.transformer_decoder(embedding_tgt, memory, mask_tgt, None, padding_mask_tgt, memory_key_padding_mask)\n",
    "        return self.output(outs)\n",
    "    \n",
    "    def encode(self, src: Tensor, mask_src: Tensor):\n",
    "        return self.transformer_encoder(self.positional_encoding(self.token_embedding_src(src)), mask_src)\n",
    "    \n",
    "    def decode(self, tgt: Tensor, memory: Tensor, mask_tgt: Tensor):\n",
    "        return self.transformer_decoder(self.positional_encoding(self.token_embedding_tgt(tgt)), memory, mask_tgt)\n"
   ]
  },
  {
   "cell_type": "code",
   "execution_count": 18,
   "metadata": {},
   "outputs": [],
   "source": [
    "from tqdm import tqdm"
   ]
  },
  {
   "cell_type": "code",
   "execution_count": 19,
   "metadata": {},
   "outputs": [],
   "source": [
    "def train(model, data, optimizer, criterion, PAD_INDEX):\n",
    "    device = torch.device('cuda' if torch.cuda.is_available() else 'cpu')\n",
    "\n",
    "    model.train()\n",
    "    losses = 0.0\n",
    "    for src, tgt in tqdm(data):\n",
    "        src = src.to(device)\n",
    "        tgt = tgt.to(device)\n",
    "        input_tgt = tgt[:-1, :] # remove last token\n",
    "        mask_src, mask_tgt, padding_mask_src, padding_mask_tgt = create_mask(src, input_tgt, PAD_INDEX)\n",
    "\n",
    "        logits = model(src=src, tgt=input_tgt,\n",
    "                        mask_src=mask_src, mask_tgt=mask_tgt,\n",
    "                        padding_mask_src=padding_mask_src, padding_mask_tgt=padding_mask_tgt,\n",
    "                        memory_key_padding_mask=padding_mask_src)\n",
    "\n",
    "        optimizer.zero_grad()\n",
    "\n",
    "        output_tgt = tgt[1:, :] # remove first token\n",
    "        loss = criterion(logits.reshape(-1, logits.shape[-1]), output_tgt.reshape(-1))\n",
    "        loss.backward()\n",
    "\n",
    "        optimizer.step()\n",
    "        losses += loss.item()\n",
    "    \n",
    "    return losses / len(data)"
   ]
  },
  {
   "cell_type": "code",
   "execution_count": 20,
   "metadata": {},
   "outputs": [],
   "source": [
    "def evaluate(model, data, criterion, PAD_INDEX):\n",
    "    device = torch.device('cuda' if torch.cuda.is_available() else 'cpu')\n",
    "\n",
    "    model.eval()\n",
    "    losses = 0.0\n",
    "\n",
    "    for src, tgt in data:\n",
    "        src = src.to(device)\n",
    "        tgt = tgt.to(device)\n",
    "\n",
    "        input_tgt = tgt[:-1, :] # remove last token\n",
    "        mask_src, mask_tgt, padding_mask_src, padding_mask_tgt = create_mask(src, input_tgt, PAD_INDEX)\n",
    "        logits = model(src=src, tgt=input_tgt, \n",
    "                       mask_src=mask_src, mask_tgt=mask_tgt,\n",
    "                       padding_mask_src=padding_mask_src, padding_mask_tgt=padding_mask_tgt,\n",
    "                       memory_key_padding_mask=padding_mask_src)\n",
    "\n",
    "        output_tgt = tgt[1:, :] # remove first token\n",
    "        loss = criterion(logits.reshape(-1, logits.shape[-1]), output_tgt.reshape(-1))\n",
    "        losses += loss.item()\n",
    "\n",
    "    return losses / len(data)"
   ]
  },
  {
   "cell_type": "code",
   "execution_count": 21,
   "metadata": {},
   "outputs": [
    {
     "name": "stderr",
     "output_type": "stream",
     "text": [
      "/home/sasatake/repos/python/transformer/.venv/lib/python3.10/site-packages/torch/nn/modules/transformer.py:385: UserWarning: enable_nested_tensor is True, but self.use_nested_tensor is False because encoder_layer.self_attn.batch_first was not True(use batch_first for better inference performance)\n",
      "  warnings.warn(\n"
     ]
    }
   ],
   "source": [
    "device = torch.device('cuda' if torch.cuda.is_available() else 'cpu')\n",
    "\n",
    "vocab_size_src = len(token2idx_de)\n",
    "vocab_size_tgt = len(token2idx_en)\n",
    "embedding_size = 240 # smaller than original 512\n",
    "nhead = 8\n",
    "dim_feedforward = 100\n",
    "num_encoder_layers = 3\n",
    "num_decoder_layers = 3\n",
    "dropout = 0.1\n",
    "\n",
    "model = Seq2SeqTransformer(\n",
    "    num_encoder_layers=num_encoder_layers,\n",
    "    num_decoder_layers=num_decoder_layers,\n",
    "    embedding_size=embedding_size,\n",
    "    vocab_size_src=vocab_size_src,\n",
    "    vocab_size_tgt=vocab_size_tgt,\n",
    "    dim_feedforward=dim_feedforward,\n",
    "    dropout=dropout,\n",
    "    nhead=nhead\n",
    ")\n",
    "\n",
    "for p in model.parameters():\n",
    "    if p.dim() > 1:\n",
    "        nn.init.xavier_uniform_(p) # Xavier initialization\n",
    "\n",
    "model = model.to(device)\n",
    "\n",
    "criterion = torch.nn.CrossEntropyLoss(ignore_index=PAD_INDEX)\n",
    "optimizer = torch.optim.Adam(model.parameters())"
   ]
  },
  {
   "cell_type": "code",
   "execution_count": 22,
   "metadata": {},
   "outputs": [
    {
     "name": "stderr",
     "output_type": "stream",
     "text": [
      "  0%|          | 0/227 [00:00<?, ?it/s]/home/sasatake/repos/python/transformer/.venv/lib/python3.10/site-packages/torch/nn/functional.py:5962: UserWarning: Support for mismatched key_padding_mask and attn_mask is deprecated. Use same type for both instead.\n",
      "  warnings.warn(\n",
      "100%|██████████| 227/227 [00:07<00:00, 32.20it/s]\n"
     ]
    },
    {
     "name": "stdout",
     "output_type": "stream",
     "text": [
      "epoch: 1, train loss: 4.0758, valid loss: 1.2186, elapsed time: 7.0531 sec\n"
     ]
    },
    {
     "name": "stderr",
     "output_type": "stream",
     "text": [
      "100%|██████████| 227/227 [00:06<00:00, 32.97it/s]\n"
     ]
    },
    {
     "name": "stdout",
     "output_type": "stream",
     "text": [
      "epoch: 2, train loss: 0.7586, valid loss: 0.3521, elapsed time: 6.8901 sec\n"
     ]
    },
    {
     "name": "stderr",
     "output_type": "stream",
     "text": [
      "100%|██████████| 227/227 [00:06<00:00, 32.57it/s]\n"
     ]
    },
    {
     "name": "stdout",
     "output_type": "stream",
     "text": [
      "epoch: 3, train loss: 0.2786, valid loss: 0.2396, elapsed time: 6.9728 sec\n"
     ]
    },
    {
     "name": "stderr",
     "output_type": "stream",
     "text": [
      "100%|██████████| 227/227 [00:06<00:00, 32.56it/s]\n"
     ]
    },
    {
     "name": "stdout",
     "output_type": "stream",
     "text": [
      "epoch: 4, train loss: 0.1370, valid loss: 0.2100, elapsed time: 6.9752 sec\n"
     ]
    },
    {
     "name": "stderr",
     "output_type": "stream",
     "text": [
      "100%|██████████| 227/227 [00:06<00:00, 32.54it/s]\n"
     ]
    },
    {
     "name": "stdout",
     "output_type": "stream",
     "text": [
      "epoch: 5, train loss: 0.0720, valid loss: 0.1964, elapsed time: 6.9805 sec\n"
     ]
    },
    {
     "name": "stderr",
     "output_type": "stream",
     "text": [
      "100%|██████████| 227/227 [00:06<00:00, 32.53it/s]\n"
     ]
    },
    {
     "name": "stdout",
     "output_type": "stream",
     "text": [
      "epoch: 6, train loss: 0.0344, valid loss: 0.1893, elapsed time: 6.9824 sec\n"
     ]
    },
    {
     "name": "stderr",
     "output_type": "stream",
     "text": [
      "100%|██████████| 227/227 [00:07<00:00, 32.10it/s]\n"
     ]
    },
    {
     "name": "stdout",
     "output_type": "stream",
     "text": [
      "epoch: 7, train loss: 0.0183, valid loss: 0.1952, elapsed time: 7.0750 sec\n"
     ]
    },
    {
     "name": "stderr",
     "output_type": "stream",
     "text": [
      "100%|██████████| 227/227 [00:07<00:00, 31.81it/s]\n"
     ]
    },
    {
     "name": "stdout",
     "output_type": "stream",
     "text": [
      "epoch: 8, train loss: 0.0138, valid loss: 0.1898, elapsed time: 7.1396 sec\n"
     ]
    },
    {
     "name": "stderr",
     "output_type": "stream",
     "text": [
      "100%|██████████| 227/227 [00:07<00:00, 31.68it/s]\n"
     ]
    },
    {
     "name": "stdout",
     "output_type": "stream",
     "text": [
      "epoch: 9, train loss: 0.0129, valid loss: 0.1876, elapsed time: 7.1683 sec\n"
     ]
    },
    {
     "name": "stderr",
     "output_type": "stream",
     "text": [
      "100%|██████████| 227/227 [00:07<00:00, 32.01it/s]\n"
     ]
    },
    {
     "name": "stdout",
     "output_type": "stream",
     "text": [
      "epoch: 10, train loss: 0.0128, valid loss: 0.1916, elapsed time: 7.0956 sec\n"
     ]
    },
    {
     "name": "stderr",
     "output_type": "stream",
     "text": [
      "100%|██████████| 227/227 [00:07<00:00, 31.71it/s]\n"
     ]
    },
    {
     "name": "stdout",
     "output_type": "stream",
     "text": [
      "epoch: 11, train loss: 0.0137, valid loss: 0.1995, elapsed time: 7.1612 sec\n"
     ]
    },
    {
     "name": "stderr",
     "output_type": "stream",
     "text": [
      "100%|██████████| 227/227 [00:07<00:00, 31.96it/s]\n"
     ]
    },
    {
     "name": "stdout",
     "output_type": "stream",
     "text": [
      "epoch: 12, train loss: 0.0134, valid loss: 0.1974, elapsed time: 7.1064 sec\n"
     ]
    },
    {
     "name": "stderr",
     "output_type": "stream",
     "text": [
      "100%|██████████| 227/227 [00:07<00:00, 31.19it/s]\n"
     ]
    },
    {
     "name": "stdout",
     "output_type": "stream",
     "text": [
      "epoch: 13, train loss: 0.0121, valid loss: 0.2042, elapsed time: 7.2815 sec\n"
     ]
    },
    {
     "name": "stderr",
     "output_type": "stream",
     "text": [
      "100%|██████████| 227/227 [00:07<00:00, 30.78it/s]\n"
     ]
    },
    {
     "name": "stdout",
     "output_type": "stream",
     "text": [
      "epoch: 14, train loss: 0.0133, valid loss: 0.2023, elapsed time: 7.3792 sec\n"
     ]
    },
    {
     "name": "stderr",
     "output_type": "stream",
     "text": [
      "100%|██████████| 227/227 [00:07<00:00, 30.33it/s]\n"
     ]
    },
    {
     "name": "stdout",
     "output_type": "stream",
     "text": [
      "epoch: 15, train loss: 0.0120, valid loss: 0.2105, elapsed time: 7.4874 sec\n"
     ]
    },
    {
     "name": "stderr",
     "output_type": "stream",
     "text": [
      "100%|██████████| 227/227 [00:07<00:00, 30.60it/s]\n"
     ]
    },
    {
     "name": "stdout",
     "output_type": "stream",
     "text": [
      "epoch: 16, train loss: 0.0111, valid loss: 0.2098, elapsed time: 7.4211 sec\n"
     ]
    },
    {
     "name": "stderr",
     "output_type": "stream",
     "text": [
      "100%|██████████| 227/227 [00:07<00:00, 30.17it/s]\n"
     ]
    },
    {
     "name": "stdout",
     "output_type": "stream",
     "text": [
      "epoch: 17, train loss: 0.0129, valid loss: 0.2133, elapsed time: 7.5283 sec\n"
     ]
    },
    {
     "name": "stderr",
     "output_type": "stream",
     "text": [
      "100%|██████████| 227/227 [00:07<00:00, 30.37it/s]\n"
     ]
    },
    {
     "name": "stdout",
     "output_type": "stream",
     "text": [
      "epoch: 18, train loss: 0.0120, valid loss: 0.2184, elapsed time: 7.4772 sec\n"
     ]
    },
    {
     "name": "stderr",
     "output_type": "stream",
     "text": [
      "100%|██████████| 227/227 [00:07<00:00, 30.61it/s]\n"
     ]
    },
    {
     "name": "stdout",
     "output_type": "stream",
     "text": [
      "epoch: 19, train loss: 0.0108, valid loss: 0.2243, elapsed time: 7.4194 sec\n"
     ]
    },
    {
     "name": "stderr",
     "output_type": "stream",
     "text": [
      "100%|██████████| 227/227 [00:07<00:00, 30.75it/s]\n"
     ]
    },
    {
     "name": "stdout",
     "output_type": "stream",
     "text": [
      "epoch: 20, train loss: 0.0125, valid loss: 0.2198, elapsed time: 7.3863 sec\n"
     ]
    }
   ],
   "source": [
    "import time\n",
    "\n",
    "epoch = 1000\n",
    "best_loss = float('inf')\n",
    "best_model = None\n",
    "patience = 10\n",
    "counter = 0\n",
    "\n",
    "for loop in range(epoch):\n",
    "    start_time = time.time()\n",
    "\n",
    "    loss_train = train(\n",
    "        model=model, data=train_iter, optimizer=optimizer,\n",
    "        criterion=criterion, PAD_INDEX=PAD_INDEX\n",
    "    )\n",
    "\n",
    "    elapsed_time = time.time() - start_time\n",
    "    loss_valid = evaluate(\n",
    "        model=model, data=valid_iter, criterion=criterion, PAD_INDEX=PAD_INDEX\n",
    "    )\n",
    "\n",
    "    print(f'epoch: {loop+1}, train loss: {loss_train:.4f}, valid loss: {loss_valid:.4f}, elapsed time: {elapsed_time:.4f} sec')\n",
    "\n",
    "    if best_loss > loss_valid:\n",
    "        best_loss = loss_valid\n",
    "        best_model = model\n",
    "        counter = 0\n",
    "    \n",
    "    if counter > patience:\n",
    "        break\n",
    "\n",
    "    counter += 1"
   ]
  },
  {
   "cell_type": "markdown",
   "metadata": {},
   "source": [
    "# save model"
   ]
  },
  {
   "cell_type": "code",
   "execution_count": 23,
   "metadata": {},
   "outputs": [],
   "source": [
    "import os\n",
    "model_dir_path = '../../result/model'\n",
    "torch.save(best_model.state_dict(), os.path.join(model_dir_path,  'translation_transformer.pth'))"
   ]
  },
  {
   "cell_type": "markdown",
   "metadata": {},
   "source": [
    "# inference"
   ]
  },
  {
   "cell_type": "code",
   "execution_count": 24,
   "metadata": {},
   "outputs": [],
   "source": [
    "def greedy_decode(model: torch.nn.Module, src: Tensor, mask_src: Tensor, seq_len_tgt: int, START_INDEX: int, END_INDEX: int, PAD_INDEX: int):\n",
    "    device = torch.device('cuda' if torch.cuda.is_available() else 'cpu')\n",
    "\n",
    "    src = src.to(device)\n",
    "    mask_src = mask_src.to(device)\n",
    "\n",
    "    memory = model.encode(src, mask_src)\n",
    "    memory = model.transformer_encoder(model.positional_encoding(model.token_embedding_src(src)), mask_src)\n",
    "    ys = torch.ones(1, 1).fill_(START_INDEX).type(torch.long).to(device) # start with <start> token\n",
    "\n",
    "    for i in range(seq_len_tgt - 1):\n",
    "        print(f'||| {i}th decoding step')\n",
    "\n",
    "        memory = memory.to(device)\n",
    "        memory_mask = torch.zeros(ys.shape[0], memory.shape[0]).to(device).type(torch.bool)\n",
    "        mask_tgt = (generate_square_subsequent_mask(ys.size(0), PAD_INDEX=PAD_INDEX).type(torch.bool)).to(device)\n",
    "\n",
    "        output = model.decode(ys, memory, mask_tgt)\n",
    "        print(f'||| output shape : {output.shape}') # (seq_len_tgt, batch_size, vocab_size_tgt)\n",
    "        print(f'||| output a : {output}')\n",
    "        output = output.transpose(0, 1)\n",
    "        output = model.output(output[:, -1]) # last column\n",
    "        print(f'||| output b : {output}')\n",
    "\n",
    "        import pickle as pkl\n",
    "        with open('../../data/external/output.pkl', 'wb') as f:\n",
    "            pkl.dump(output, f)\n",
    "\n",
    "        _, next_word = torch.max(output, dim = 1)\n",
    "        next_word = next_word.item()\n",
    "        print(f'||| next word is {idx2token_en[next_word]}')\n",
    "\n",
    "        ys = torch.cat([ys, torch.ones(1, 1).type_as(src.data).fill_(next_word)], dim=0)\n",
    "        if next_word == END_INDEX:\n",
    "            print(f'||| next word is <end> token')\n",
    "            break\n",
    "\n",
    "    return ys\n",
    "\n"
   ]
  },
  {
   "cell_type": "code",
   "execution_count": 25,
   "metadata": {},
   "outputs": [],
   "source": [
    "# load local modules\n",
    "import sys\n",
    "script_abs_path = '/home/sasatake/repos/python/transformer/script'\n",
    "sys.path.append(script_abs_path)\n",
    "\n",
    "from load_dataset import Multi30k\n",
    "from tokenizer import Tokenizer"
   ]
  },
  {
   "cell_type": "code",
   "execution_count": 26,
   "metadata": {},
   "outputs": [],
   "source": [
    "def convert_text_to_indices(text, vocab, tokenizer, lang):\n",
    "    return [vocab['<start>']] + [vocab[token] for token in tokenizer.tokenize(lang, text.strip('\\n'))] + [vocab['<end>']]"
   ]
  },
  {
   "cell_type": "code",
   "execution_count": 27,
   "metadata": {},
   "outputs": [],
   "source": [
    "def translate(model : torch.nn.Module, text: str, vocab_src, vocab_tgt, tokenizer_src, seq_len_tgt, START_INDEX, END_INDEX, PAD_INDEX):\n",
    "    device = torch.device('cuda' if torch.cuda.is_available() else 'cpu')\n",
    "\n",
    "    model.eval()\n",
    "\n",
    "    tokens = convert_text_to_indices(text=text, vocab=vocab_src, tokenizer=tokenizer_src, lang='de')\n",
    "    print(f'||| src tokens : {tokens}')\n",
    "    num_tokens = len(tokens)\n",
    "    src = torch.LongTensor(tokens).reshape(num_tokens, 1)\n",
    "    print(f'||| src : {src}')\n",
    "    mask_src = (torch.zeros(num_tokens, num_tokens)).type(torch.bool)\n",
    "\n",
    "    predicts = greedy_decode(model=model, src=src, mask_src=mask_src, seq_len_tgt=seq_len_tgt, START_INDEX=START_INDEX, END_INDEX=END_INDEX, PAD_INDEX=PAD_INDEX).flatten()\n",
    "\n",
    "    return ''.join([vocab_tgt[int(token)] for token in predicts]).replace('<end>', '').replace('<start>', '') # remove <start> and <end> token"
   ]
  },
  {
   "cell_type": "code",
   "execution_count": 28,
   "metadata": {},
   "outputs": [
    {
     "name": "stdout",
     "output_type": "stream",
     "text": [
      "||| src tokens : [2, 14, 38, 24, 48, 30, 28, 6, 6182, 3]\n",
      "||| src : tensor([[   2],\n",
      "        [  14],\n",
      "        [  38],\n",
      "        [  24],\n",
      "        [  48],\n",
      "        [  30],\n",
      "        [  28],\n",
      "        [   6],\n",
      "        [6182],\n",
      "        [   3]])\n",
      "||| 0th decoding step\n",
      "||| output shape : torch.Size([1, 1, 240])\n",
      "||| output a : tensor([[[-1.1178e+00,  2.5233e+00, -8.1720e-01,  1.3011e-01,  9.6152e-01,\n",
      "           3.8175e-01,  2.0252e+00,  5.6775e-01, -1.3518e+00,  1.2847e+00,\n",
      "           1.5160e+00,  1.2637e+00,  1.3025e-01, -2.1975e-01, -9.9687e-01,\n",
      "           6.9770e-01, -6.2064e-01,  2.7259e-01, -2.1661e+00,  5.8886e-02,\n",
      "          -3.0626e+00,  2.9953e+00,  9.8934e-02, -1.3914e+00, -2.6361e-01,\n",
      "           7.4671e+00, -2.4018e+00,  8.8206e-02,  2.3075e-01, -2.6926e-02,\n",
      "           2.8573e+00, -3.0730e+00, -5.2096e-01, -7.5036e-01, -4.4510e+00,\n",
      "           2.8844e+00, -6.5234e-02,  2.0652e+00, -1.2125e+00,  1.3450e+00,\n",
      "           9.0281e-01, -4.2879e+00,  2.4239e-01,  8.8024e-01, -1.9037e+00,\n",
      "          -1.6230e+00,  9.4392e-01, -1.0127e+00, -5.9839e+00, -5.6091e-01,\n",
      "          -3.2739e+00,  1.1088e+00, -1.4860e+00, -1.0831e-01, -1.8712e+00,\n",
      "          -4.3827e-01,  1.2088e+00,  7.4267e-01,  8.1006e-01, -2.3823e+00,\n",
      "          -1.2991e+00,  7.4730e-01,  1.7982e+00,  4.7637e-01,  3.3942e-01,\n",
      "           1.3441e+00, -1.5871e-01, -5.9005e+00,  5.4590e-01,  1.0770e+00,\n",
      "          -2.9289e-01,  3.3946e+00, -8.5349e-01, -5.2212e-01, -1.0889e-02,\n",
      "          -6.2788e-01, -4.1530e-01, -2.4471e+00, -1.3980e+00,  1.0487e-02,\n",
      "           8.8848e-02,  1.3795e+00,  3.8905e+00, -5.4935e+00,  3.8971e-01,\n",
      "           8.6933e-03,  1.2986e+00, -1.0608e+00,  4.6459e-02,  7.2667e-01,\n",
      "           3.3192e+00,  4.0293e-01,  1.0336e+00,  3.3069e+00,  4.6928e-01,\n",
      "           2.9576e+00, -1.8526e+00, -2.2783e+00,  1.1960e+00,  1.3306e+00,\n",
      "          -6.9883e-01,  1.3063e+00,  7.9727e-01,  6.3451e-01,  2.2347e+00,\n",
      "          -1.2293e+00, -7.1390e-02, -1.7293e+00,  1.8285e+00, -6.0499e-01,\n",
      "           1.5456e+00, -1.3362e+00,  1.5466e+00, -1.7708e+00,  1.4561e+00,\n",
      "          -1.3579e+00, -1.2225e+00,  1.6779e-01,  2.1641e+00,  1.5397e+00,\n",
      "           2.6546e+00, -1.6435e+00,  4.0380e+00,  9.4316e-01,  2.5836e+00,\n",
      "           5.6549e-01,  6.6059e-01, -1.2474e+00, -1.2325e+00,  2.4663e-02,\n",
      "          -4.2888e+00, -7.5699e-01,  3.1319e+00,  3.7865e-01, -9.0609e-02,\n",
      "           3.5697e+00, -3.6204e+00,  1.3017e+00,  4.8207e-01,  2.6340e-01,\n",
      "           5.7507e-01,  3.6685e+00,  6.0701e-01, -4.3140e+00, -9.7595e-01,\n",
      "           4.5903e-01, -4.8706e+00, -9.7901e-01,  2.0789e+00,  8.7894e-01,\n",
      "           8.9855e-02,  1.3167e-01, -1.3835e+00, -3.0706e-01,  1.2636e-03,\n",
      "           3.2418e+00,  2.8837e+00, -9.1637e-01, -3.2273e-01, -6.8497e-01,\n",
      "           2.9451e+00,  3.4270e-01, -9.5161e-01,  1.9795e+00,  3.1121e+00,\n",
      "          -9.6607e-01,  8.9665e-01, -1.3687e+00, -7.0895e-01, -3.3126e+00,\n",
      "          -1.6150e+00, -3.1381e+00, -9.4940e-02,  4.6960e-01, -5.0798e-01,\n",
      "          -4.3120e-01,  2.4080e+00, -4.7376e-01,  4.2357e+00, -1.4238e+00,\n",
      "           1.6489e+00,  4.8575e+00, -2.6685e+00, -3.3887e+00,  3.2140e-01,\n",
      "           1.3967e+00, -1.7333e+00,  2.3988e+00, -5.8046e-01, -1.3812e+00,\n",
      "           3.5403e+00, -1.3244e+00, -1.1651e+00,  1.0407e-01, -1.4549e+00,\n",
      "          -2.1948e-01,  8.5322e-01, -1.4959e-01, -9.8004e-01, -9.0879e-01,\n",
      "           3.3728e+00, -8.3832e-01,  9.0656e-01,  1.1779e+00, -2.0147e+00,\n",
      "           2.1236e-01, -2.3736e-01,  1.0172e+00,  1.7889e+00, -3.5663e-02,\n",
      "           4.3062e-01,  7.1901e-01, -2.8284e+00, -1.7450e-01, -7.7668e-01,\n",
      "          -2.3686e-01, -1.7977e+00, -1.1008e+00,  1.0776e+00, -5.2730e-02,\n",
      "           5.3438e+00,  4.4020e-02,  1.2469e-02, -6.6791e-01, -6.1589e-01,\n",
      "          -2.2857e+00, -4.9973e+00, -4.7682e+00, -1.1999e+00,  5.7683e-01,\n",
      "           2.1089e+00, -5.2021e-01,  2.8635e-01,  1.5784e+00, -2.1149e+00,\n",
      "          -1.6407e+00,  1.2038e+00,  3.2143e+00, -5.2349e+00,  3.7576e+00]]],\n",
      "       device='cuda:0', grad_fn=<NativeLayerNormBackward0>)\n",
      "||| output b : tensor([[-1.0439, -1.3929, -0.8976,  ..., -1.0238, -1.3030, -1.3125]],\n",
      "       device='cuda:0', grad_fn=<AddmmBackward0>)\n",
      "||| next word is <end>\n",
      "||| next word is <end> token\n",
      "result : \n"
     ]
    }
   ],
   "source": [
    "#seq_len_tgt = max([len(x[1] for x in tokenized_train_data)]) # max length of target sentence\n",
    "seq_len_tgt = 30\n",
    "\n",
    "text = 'Eine Gruppe von Menschen steht vor einem Iglu .'\n",
    "tokenizer = Tokenizer()\n",
    "\n",
    "ret = translate(model=best_model, text=text, vocab_src=token2idx_de, vocab_tgt=idx2token_en, tokenizer_src=tokenizer, seq_len_tgt=seq_len_tgt, START_INDEX=START_INDEX, END_INDEX=END_INDEX, PAD_INDEX=PAD_INDEX)\n",
    "print(f'result : {ret}')"
   ]
  },
  {
   "cell_type": "code",
   "execution_count": null,
   "metadata": {},
   "outputs": [],
   "source": []
  },
  {
   "cell_type": "code",
   "execution_count": null,
   "metadata": {},
   "outputs": [],
   "source": []
  }
 ],
 "metadata": {
  "kernelspec": {
   "display_name": ".venv",
   "language": "python",
   "name": "python3"
  },
  "language_info": {
   "codemirror_mode": {
    "name": "ipython",
    "version": 3
   },
   "file_extension": ".py",
   "mimetype": "text/x-python",
   "name": "python",
   "nbconvert_exporter": "python",
   "pygments_lexer": "ipython3",
   "version": "3.10.12"
  }
 },
 "nbformat": 4,
 "nbformat_minor": 2
}

{
 "cells": [
  {
   "cell_type": "code",
   "execution_count": 36,
   "metadata": {},
   "outputs": [],
   "source": [
    "from torch.nn.utils.rnn import pad_sequence\n",
    "from torch.utils.data import DataLoader\n",
    "import pickle as pkl"
   ]
  },
  {
   "cell_type": "markdown",
   "metadata": {},
   "source": [
    "# load tokenized dataset"
   ]
  },
  {
   "cell_type": "code",
   "execution_count": 37,
   "metadata": {},
   "outputs": [],
   "source": [
    "dataset_dir_path = '../../data/processed/tokenized_data/'\n",
    "with open(dataset_dir_path + 'train_data.pkl', 'rb') as f:\n",
    "    tokenized_train_data = pkl.load(f)\n",
    "\n",
    "with open(dataset_dir_path + 'valid_data.pkl', 'rb') as f:\n",
    "    tokenized_valid_data = pkl.load(f)"
   ]
  },
  {
   "cell_type": "code",
   "execution_count": 38,
   "metadata": {},
   "outputs": [
    {
     "name": "stdout",
     "output_type": "stream",
     "text": [
      "Input(de) tensor([   2,   21,   85,  256,   31,   86,   22,   93,    7,   16,  114, 5645,\n",
      "        3245,    3])\n",
      "Output(en) tensor([   2,   19,   25,   15, 1197,  817,   17,   58,   84,  332, 1319,    3])\n"
     ]
    }
   ],
   "source": [
    "print(f'Input(de) {tokenized_train_data[0][0]}')\n",
    "print(f'Output(en) {tokenized_train_data[0][1]}')"
   ]
  },
  {
   "cell_type": "markdown",
   "metadata": {},
   "source": [
    "# load vocab"
   ]
  },
  {
   "cell_type": "code",
   "execution_count": 39,
   "metadata": {},
   "outputs": [],
   "source": [
    "vocab_dir_path = '../../data/processed/vocab/'\n",
    "\n",
    "with open(vocab_dir_path + 'token2idx_de.pkl', 'rb') as f:\n",
    "    token2idx_de= pkl.load(f)\n",
    "with open(vocab_dir_path + 'token2idx_en.pkl', 'rb') as f:\n",
    "    token2idx_en = pkl.load(f)\n",
    "with open(vocab_dir_path + 'idx2token_de.pkl', 'rb') as f:\n",
    "    idx2token_de = pkl.load(f)\n",
    "with open(vocab_dir_path + 'idx2token_en.pkl', 'rb') as f:\n",
    "    idx2token_en = pkl.load(f)"
   ]
  },
  {
   "cell_type": "markdown",
   "metadata": {},
   "source": [
    "# making the batch"
   ]
  },
  {
   "cell_type": "code",
   "execution_count": 40,
   "metadata": {},
   "outputs": [],
   "source": [
    "batch_size = 128\n",
    "PAD_INDEX = token2idx_de['<pad>']\n",
    "START_INDEX = token2idx_en['<start>']\n",
    "END_INDEX = token2idx_en['<end>']"
   ]
  },
  {
   "cell_type": "code",
   "execution_count": 41,
   "metadata": {},
   "outputs": [],
   "source": [
    "def generate_batch(data_batch):\n",
    "    batch_src = []\n",
    "    batch_tgt = []\n",
    "    for src, tgt in data_batch:\n",
    "        batch_src.append(src)\n",
    "        batch_tgt.append(tgt)\n",
    "    \n",
    "    batch_src = pad_sequence(batch_src, padding_value=PAD_INDEX)\n",
    "    batch_tgt = pad_sequence(batch_tgt, padding_value=PAD_INDEX)\n",
    "\n",
    "    return batch_src, batch_tgt"
   ]
  },
  {
   "cell_type": "code",
   "execution_count": 42,
   "metadata": {},
   "outputs": [],
   "source": [
    "train_iter = DataLoader(tokenized_train_data, batch_size=batch_size, shuffle=True, collate_fn=generate_batch)\n",
    "valid_iter = DataLoader(tokenized_valid_data, batch_size=batch_size, shuffle=True, collate_fn=generate_batch)"
   ]
  },
  {
   "cell_type": "code",
   "execution_count": 43,
   "metadata": {},
   "outputs": [
    {
     "data": {
      "text/plain": [
       "(tensor([[   2,    2,    2,  ...,    2,    2,    2],\n",
       "         [   5,    5,   21,  ...,    5,   21,    5],\n",
       "         [ 542, 4415,   31,  ...,   12,   31, 4183],\n",
       "         ...,\n",
       "         [   1,    1,    1,  ...,    1,    1,    1],\n",
       "         [   1,    1,    1,  ...,    1,    1,    1],\n",
       "         [   1,    1,    1,  ...,    1,    1,    1]]),\n",
       " tensor([[   2,    2,    2,  ...,    2,    2,    2],\n",
       "         [ 890,    6,   19,  ...,    6,   19,    6],\n",
       "         [  11,  345,   36,  ...,   12,   36, 1529],\n",
       "         ...,\n",
       "         [   1,    1,    1,  ...,    1,    1,    1],\n",
       "         [   1,    1,    1,  ...,    1,    1,    1],\n",
       "         [   1,    1,    1,  ...,    1,    1,    1]]))"
      ]
     },
     "execution_count": 43,
     "metadata": {},
     "output_type": "execute_result"
    }
   ],
   "source": [
    "# show train_iter\n",
    "# each column is a text\n",
    "list(train_iter)[0]"
   ]
  },
  {
   "cell_type": "markdown",
   "metadata": {},
   "source": [
    "# Model"
   ]
  },
  {
   "cell_type": "code",
   "execution_count": 44,
   "metadata": {},
   "outputs": [],
   "source": [
    "import math\n",
    "import torch\n",
    "import torch.nn as nn\n",
    "from torch import Tensor"
   ]
  },
  {
   "cell_type": "markdown",
   "metadata": {},
   "source": [
    "## token embedding"
   ]
  },
  {
   "cell_type": "code",
   "execution_count": null,
   "metadata": {},
   "outputs": [],
   "source": [
    "class TokenEmbedding(nn.Module):\n",
    "    def __init__(self, vocab_size, embedding_size):\n",
    "        super().__init__()\n",
    "        # nn.Embedding is a simple lookup table.\n",
    "        # if token index is set, it will return the corresponding embedding vector.\n",
    "        self.embedding = nn.Embedding(vocab_size, embedding_size)\n",
    "        self.embedding_size = embedding_size\n",
    "    \n",
    "    def forward(self, tokens: Tensor):\n",
    "        # the reason for this multiply is to align the range of the values\n",
    "        # It is to make the positional encoding relatively smaller. \n",
    "        # This means the original meaning in the embedding vector won’t be lost \n",
    "        # when we add them together.\n",
    "        return self.embedding(tokens.long()) * math.sqrt(self.embedding_size)"
   ]
  },
  {
   "cell_type": "code",
   "execution_count": 46,
   "metadata": {},
   "outputs": [],
   "source": [
    "token_embedding = TokenEmbedding(len(token2idx_de), 512)"
   ]
  },
  {
   "cell_type": "code",
   "execution_count": 47,
   "metadata": {},
   "outputs": [
    {
     "data": {
      "text/plain": [
       "19620"
      ]
     },
     "execution_count": 47,
     "metadata": {},
     "output_type": "execute_result"
    }
   ],
   "source": [
    "len(token2idx_de)"
   ]
  },
  {
   "cell_type": "code",
   "execution_count": 49,
   "metadata": {},
   "outputs": [
    {
     "name": "stdout",
     "output_type": "stream",
     "text": [
      "bached data shape : 29 words, 128 sentences\n",
      "bached data tensor([[  2,   2,   2,  ...,   2,   2,   2],\n",
      "        [  5,  21,  14,  ...,  14,   5,   5],\n",
      "        [ 12,  27,  17,  ...,  17, 507, 310],\n",
      "        ...,\n",
      "        [  1,   1,   1,  ...,   1,   1,   1],\n",
      "        [  1,   1,   1,  ...,   1,   1,   1],\n",
      "        [  1,   1,   1,  ...,   1,   1,   1]])\n",
      "result shape : torch.Size([29, 128, 512])\n",
      "result tensor([[[-10.5732,   5.5090, -45.3570,  ...,  -2.8929,  -1.4875, -19.1218],\n",
      "         [-10.5732,   5.5090, -45.3570,  ...,  -2.8929,  -1.4875, -19.1218],\n",
      "         [-10.5732,   5.5090, -45.3570,  ...,  -2.8929,  -1.4875, -19.1218],\n",
      "         ...,\n",
      "         [-10.5732,   5.5090, -45.3570,  ...,  -2.8929,  -1.4875, -19.1218],\n",
      "         [-10.5732,   5.5090, -45.3570,  ...,  -2.8929,  -1.4875, -19.1218],\n",
      "         [-10.5732,   5.5090, -45.3570,  ...,  -2.8929,  -1.4875, -19.1218]],\n",
      "\n",
      "        [[ -1.0904, -35.0455, -63.6212,  ...,  21.4234,  28.6437, -42.5667],\n",
      "         [-22.8153, -11.8565,  -0.7828,  ...,  44.7471,  38.3599,  24.3036],\n",
      "         [ -6.1314,  20.3404, -17.4544,  ..., -11.3561,  32.3635, -15.9339],\n",
      "         ...,\n",
      "         [ -6.1314,  20.3404, -17.4544,  ..., -11.3561,  32.3635, -15.9339],\n",
      "         [ -1.0904, -35.0455, -63.6212,  ...,  21.4234,  28.6437, -42.5667],\n",
      "         [ -1.0904, -35.0455, -63.6212,  ...,  21.4234,  28.6437, -42.5667]],\n",
      "\n",
      "        [[ 36.0649,  -1.4352, -35.2907,  ...,  -3.3199, -26.5027, -23.3028],\n",
      "         [-14.8821,  -1.3054,  10.6624,  ...,  12.6037,  26.7607,   9.6407],\n",
      "         [ 27.9243,  -5.9500,  -2.8392,  ...,   7.8261,  14.3640,  12.0902],\n",
      "         ...,\n",
      "         [ 27.9243,  -5.9500,  -2.8392,  ...,   7.8261,  14.3640,  12.0902],\n",
      "         [ 20.3741, -18.0482, -22.3287,  ...,  -3.1107,  -0.7189, -35.5199],\n",
      "         [ 14.5854,   7.2010, -25.9132,  ...,   6.4339,   1.6668,  -8.9202]],\n",
      "\n",
      "        ...,\n",
      "\n",
      "        [[ -7.8899,  22.2853, -30.2060,  ...,  32.1408,  10.3479,  27.9292],\n",
      "         [ -7.8899,  22.2853, -30.2060,  ...,  32.1408,  10.3479,  27.9292],\n",
      "         [ -7.8899,  22.2853, -30.2060,  ...,  32.1408,  10.3479,  27.9292],\n",
      "         ...,\n",
      "         [ -7.8899,  22.2853, -30.2060,  ...,  32.1408,  10.3479,  27.9292],\n",
      "         [ -7.8899,  22.2853, -30.2060,  ...,  32.1408,  10.3479,  27.9292],\n",
      "         [ -7.8899,  22.2853, -30.2060,  ...,  32.1408,  10.3479,  27.9292]],\n",
      "\n",
      "        [[ -7.8899,  22.2853, -30.2060,  ...,  32.1408,  10.3479,  27.9292],\n",
      "         [ -7.8899,  22.2853, -30.2060,  ...,  32.1408,  10.3479,  27.9292],\n",
      "         [ -7.8899,  22.2853, -30.2060,  ...,  32.1408,  10.3479,  27.9292],\n",
      "         ...,\n",
      "         [ -7.8899,  22.2853, -30.2060,  ...,  32.1408,  10.3479,  27.9292],\n",
      "         [ -7.8899,  22.2853, -30.2060,  ...,  32.1408,  10.3479,  27.9292],\n",
      "         [ -7.8899,  22.2853, -30.2060,  ...,  32.1408,  10.3479,  27.9292]],\n",
      "\n",
      "        [[ -7.8899,  22.2853, -30.2060,  ...,  32.1408,  10.3479,  27.9292],\n",
      "         [ -7.8899,  22.2853, -30.2060,  ...,  32.1408,  10.3479,  27.9292],\n",
      "         [ -7.8899,  22.2853, -30.2060,  ...,  32.1408,  10.3479,  27.9292],\n",
      "         ...,\n",
      "         [ -7.8899,  22.2853, -30.2060,  ...,  32.1408,  10.3479,  27.9292],\n",
      "         [ -7.8899,  22.2853, -30.2060,  ...,  32.1408,  10.3479,  27.9292],\n",
      "         [ -7.8899,  22.2853, -30.2060,  ...,  32.1408,  10.3479,  27.9292]]],\n",
      "       grad_fn=<MulBackward0>)\n",
      "sqrt : 22.627416997969522\n"
     ]
    }
   ],
   "source": [
    "for src, tgt in train_iter:\n",
    "    print(f'bached data shape : {src.shape[0]} words, {src.shape[1]} sentences')\n",
    "    print(f'bached data {src}')\n",
    "    res = token_embedding.forward(src)\n",
    "    print(f'result shape : {res.shape}')\n",
    "    print(f'result {res}')\n",
    "    print(f'sqrt : {math.sqrt(token_embedding.embedding_size)}')\n",
    "    break"
   ]
  },
  {
   "cell_type": "code",
   "execution_count": null,
   "metadata": {},
   "outputs": [],
   "source": []
  }
 ],
 "metadata": {
  "kernelspec": {
   "display_name": ".venv",
   "language": "python",
   "name": "python3"
  },
  "language_info": {
   "codemirror_mode": {
    "name": "ipython",
    "version": 3
   },
   "file_extension": ".py",
   "mimetype": "text/x-python",
   "name": "python",
   "nbconvert_exporter": "python",
   "pygments_lexer": "ipython3",
   "version": "3.10.12"
  }
 },
 "nbformat": 4,
 "nbformat_minor": 2
}

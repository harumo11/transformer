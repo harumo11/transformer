{
 "cells": [
  {
   "cell_type": "markdown",
   "id": "7c85b38e",
   "metadata": {},
   "source": [
    "- Classes in torch.nn, they are parts for building neural netwoek.\n",
    "- Those classes is called module.\n",
    "- All module inherit `nn.Module`"
   ]
  },
  {
   "cell_type": "code",
   "execution_count": 2,
   "id": "2444c287",
   "metadata": {},
   "outputs": [],
   "source": [
    "%matplotlib inline\n",
    "import os\n",
    "import torch\n",
    "from torch import nn\n",
    "from torch.utils.data import DataLoader\n",
    "from torchvision import datasets, transforms"
   ]
  },
  {
   "cell_type": "code",
   "execution_count": 3,
   "id": "26f0f089",
   "metadata": {},
   "outputs": [
    {
     "name": "stdout",
     "output_type": "stream",
     "text": [
      "Using cuda\n"
     ]
    }
   ],
   "source": [
    "device = 'cuda' if torch.cuda.is_available() else 'cpu'\n",
    "print(f'Using {device}')"
   ]
  },
  {
   "cell_type": "markdown",
   "id": "7d195ca5",
   "metadata": {},
   "source": [
    "- 1. inherit `nn.Module`\n",
    "- 2. define your network model\n",
    "- 3. initialize netwoek in `__init__`\n",
    "- 4. All module that inherit `nn.Module` must have `forward()`"
   ]
  },
  {
   "cell_type": "code",
   "execution_count": 4,
   "id": "4633d577",
   "metadata": {},
   "outputs": [],
   "source": [
    "class NeuralNetwork(nn.Module):\n",
    "    def __init__(self):\n",
    "        super().__init__()\n",
    "        self.flatten = nn.Flatten()\n",
    "\n",
    "        self.linear_relu_stack = nn.Sequential(\n",
    "            nn.Linear(28 * 28, 512), # 28x28 is the input size, 512 is the output size\n",
    "            nn.ReLU(), # 512 is input size, 512 is output size\n",
    "            nn.Linear(512, 512), # 512 is input size, 512 is output size\n",
    "            nn.ReLU(), # 512 is input size, 512 is output size\n",
    "            nn.Linear(512, 10), # 512 is input size, 10 is output size\n",
    "            nn.ReLU(), # 10 is input size, 10 is output size\n",
    "        )\n",
    "\n",
    "        def forward(self, x):\n",
    "            self.flatten(x)\n",
    "            logits = self.linear_relu_stack(x)\n",
    "            return logits"
   ]
  },
  {
   "cell_type": "code",
   "execution_count": 5,
   "id": "73e10f09",
   "metadata": {},
   "outputs": [
    {
     "name": "stdout",
     "output_type": "stream",
     "text": [
      "NeuralNetwork(\n",
      "  (flatten): Flatten(start_dim=1, end_dim=-1)\n",
      "  (linear_relu_stack): Sequential(\n",
      "    (0): Linear(in_features=784, out_features=512, bias=True)\n",
      "    (1): ReLU()\n",
      "    (2): Linear(in_features=512, out_features=512, bias=True)\n",
      "    (3): ReLU()\n",
      "    (4): Linear(in_features=512, out_features=10, bias=True)\n",
      "    (5): ReLU()\n",
      "  )\n",
      ")\n"
     ]
    }
   ],
   "source": [
    "model = NeuralNetwork().to(device)\n",
    "print(model)"
   ]
  },
  {
   "cell_type": "code",
   "execution_count": 8,
   "id": "fcf5d780",
   "metadata": {},
   "outputs": [
    {
     "data": {
      "text/plain": [
       "tensor([0.0000, 0.0000, 1.3000])"
      ]
     },
     "execution_count": 8,
     "metadata": {},
     "output_type": "execute_result"
    }
   ],
   "source": [
    "relu.forward(torch.tensor([-1.0, 0.0, 1.3]))"
   ]
  },
  {
   "cell_type": "code",
   "execution_count": null,
   "id": "126e2409",
   "metadata": {},
   "outputs": [],
   "source": []
  }
 ],
 "metadata": {
  "kernelspec": {
   "display_name": ".venv",
   "language": "python",
   "name": "python3"
  },
  "language_info": {
   "codemirror_mode": {
    "name": "ipython",
    "version": 3
   },
   "file_extension": ".py",
   "mimetype": "text/x-python",
   "name": "python",
   "nbconvert_exporter": "python",
   "pygments_lexer": "ipython3",
   "version": "3.10.12"
  }
 },
 "nbformat": 4,
 "nbformat_minor": 5
}

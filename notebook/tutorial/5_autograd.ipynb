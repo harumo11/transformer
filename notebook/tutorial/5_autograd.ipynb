{
 "cells": [
  {
   "cell_type": "code",
   "execution_count": 21,
   "id": "b4f0a04f",
   "metadata": {},
   "outputs": [],
   "source": [
    "import torch"
   ]
  },
  {
   "cell_type": "markdown",
   "id": "0c1e6932",
   "metadata": {},
   "source": [
    "# 1 layer network"
   ]
  },
  {
   "cell_type": "code",
   "execution_count": 22,
   "id": "15dc6953",
   "metadata": {},
   "outputs": [],
   "source": [
    "x = torch.ones(5) # input tensor\n",
    "y = torch.zeros(3) # expected output\n",
    "w = torch.randn(5, 3, requires_grad=True) # weights\n",
    "b = torch.randn(3, requires_grad=True) # bias\n",
    "z= torch.matmul(x, w) + b # linear transformation\n",
    "loss = torch.nn.functional.binary_cross_entropy_with_logits(z, y) # loss function:w\n"
   ]
  },
  {
   "cell_type": "code",
   "execution_count": 23,
   "id": "ce012044",
   "metadata": {},
   "outputs": [
    {
     "name": "stdout",
     "output_type": "stream",
     "text": [
      "Gradient function for z = <AddBackward0 object at 0x75483ff39e40>\n",
      "Gradient function for loss = <BinaryCrossEntropyWithLogitsBackward0 object at 0x75486152c1c0>\n"
     ]
    }
   ],
   "source": [
    "print(f'Gradient function for z = {z.grad_fn}')\n",
    "print(f'Gradient function for loss = {loss.grad_fn}')"
   ]
  },
  {
   "cell_type": "markdown",
   "id": "c053e620",
   "metadata": {},
   "source": [
    "# calculation for gradient"
   ]
  },
  {
   "cell_type": "code",
   "execution_count": 24,
   "id": "9a4614c9",
   "metadata": {},
   "outputs": [
    {
     "name": "stdout",
     "output_type": "stream",
     "text": [
      "tensor([[0.3106, 0.3218, 0.0511],\n",
      "        [0.3106, 0.3218, 0.0511],\n",
      "        [0.3106, 0.3218, 0.0511],\n",
      "        [0.3106, 0.3218, 0.0511],\n",
      "        [0.3106, 0.3218, 0.0511]])\n",
      "tensor([0.3106, 0.3218, 0.0511])\n"
     ]
    }
   ],
   "source": [
    "loss.backward()\n",
    "print(w.grad)\n",
    "print(b.grad)"
   ]
  },
  {
   "cell_type": "markdown",
   "id": "babd0d0f",
   "metadata": {},
   "source": [
    "# not calculating for gradient"
   ]
  },
  {
   "cell_type": "code",
   "execution_count": 26,
   "id": "bb1ad497",
   "metadata": {},
   "outputs": [
    {
     "name": "stdout",
     "output_type": "stream",
     "text": [
      "True\n",
      "False\n"
     ]
    }
   ],
   "source": [
    "z = torch.matmul(x, w) + b\n",
    "print(z.requires_grad)\n",
    "\n",
    "with torch.no_grad():\n",
    "    z = torch.matmul(x, w) + b\n",
    "    print(z.requires_grad)"
   ]
  },
  {
   "cell_type": "code",
   "execution_count": 34,
   "id": "b1f2a3dd",
   "metadata": {},
   "outputs": [
    {
     "name": "stdout",
     "output_type": "stream",
     "text": [
      "False\n",
      "True\n"
     ]
    }
   ],
   "source": [
    "z = torch.matmul(x, w) + b\n",
    "z_det = z.detach()\n",
    "print(z_det.requires_grad)\n",
    "print(z.requires_grad)"
   ]
  },
  {
   "cell_type": "markdown",
   "id": "87e61b5f",
   "metadata": {},
   "source": [
    "jacobian product"
   ]
  },
  {
   "cell_type": "code",
   "execution_count": 35,
   "id": "2bbbbd8d",
   "metadata": {},
   "outputs": [
    {
     "name": "stdout",
     "output_type": "stream",
     "text": [
      "Frist call \n",
      " tensor([[4., 2., 2., 2., 2.],\n",
      "        [2., 4., 2., 2., 2.],\n",
      "        [2., 2., 4., 2., 2.],\n",
      "        [2., 2., 2., 4., 2.],\n",
      "        [2., 2., 2., 2., 4.]])\n",
      "Second call \n",
      " tensor([[8., 4., 4., 4., 4.],\n",
      "        [4., 8., 4., 4., 4.],\n",
      "        [4., 4., 8., 4., 4.],\n",
      "        [4., 4., 4., 8., 4.],\n",
      "        [4., 4., 4., 4., 8.]])\n",
      "\n",
      "Call after zeroing\n",
      " tensor([[4., 2., 2., 2., 2.],\n",
      "        [2., 4., 2., 2., 2.],\n",
      "        [2., 2., 4., 2., 2.],\n",
      "        [2., 2., 2., 4., 2.],\n",
      "        [2., 2., 2., 2., 4.]])\n"
     ]
    }
   ],
   "source": [
    "inp = torch.eye(5, requires_grad=True)\n",
    "out = (inp + 1).pow(2) #(1+1)^2\n",
    "out.backward(torch.ones_like(inp), retain_graph=True)\n",
    "print(f'Frist call \\n {inp.grad}')\n",
    "out.backward(torch.ones_like(inp), retain_graph=True)\n",
    "print(f'Second call \\n {inp.grad}')\n",
    "inp.grad.zero_()\n",
    "out.backward(torch.ones_like(inp), retain_graph=True)\n",
    "print(f'\\nCall after zeroing\\n {inp.grad}')\n"
   ]
  },
  {
   "cell_type": "code",
   "execution_count": null,
   "id": "b2207896",
   "metadata": {},
   "outputs": [],
   "source": []
  },
  {
   "cell_type": "code",
   "execution_count": null,
   "id": "27d75c9f",
   "metadata": {},
   "outputs": [],
   "source": []
  }
 ],
 "metadata": {
  "kernelspec": {
   "display_name": ".venv",
   "language": "python",
   "name": "python3"
  },
  "language_info": {
   "codemirror_mode": {
    "name": "ipython",
    "version": 3
   },
   "file_extension": ".py",
   "mimetype": "text/x-python",
   "name": "python",
   "nbconvert_exporter": "python",
   "pygments_lexer": "ipython3",
   "version": "3.10.12"
  }
 },
 "nbformat": 4,
 "nbformat_minor": 5
}

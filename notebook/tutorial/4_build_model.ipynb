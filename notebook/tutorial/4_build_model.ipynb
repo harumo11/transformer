{
 "cells": [
  {
   "cell_type": "markdown",
   "id": "7c85b38e",
   "metadata": {},
   "source": [
    "- Classes in torch.nn, they are parts for building neural netwoek.\n",
    "- Those classes is called module.\n",
    "- All module inherit `nn.Module`"
   ]
  },
  {
   "cell_type": "code",
   "execution_count": 1,
   "id": "2444c287",
   "metadata": {},
   "outputs": [],
   "source": [
    "%matplotlib inline\n",
    "import os\n",
    "import torch\n",
    "from torch import nn\n",
    "from torch.utils.data import DataLoader\n",
    "from torchvision import datasets, transforms"
   ]
  },
  {
   "cell_type": "code",
   "execution_count": 2,
   "id": "26f0f089",
   "metadata": {},
   "outputs": [
    {
     "name": "stdout",
     "output_type": "stream",
     "text": [
      "Using cuda\n"
     ]
    }
   ],
   "source": [
    "device = 'cuda' if torch.cuda.is_available() else 'cpu'\n",
    "print(f'Using {device}')"
   ]
  },
  {
   "cell_type": "markdown",
   "id": "7d195ca5",
   "metadata": {},
   "source": [
    "- 1. inherit `nn.Module`\n",
    "- 2. define your network model\n",
    "- 3. initialize netwoek in `__init__`\n",
    "- 4. All module that inherit `nn.Module` must have `forward()`"
   ]
  },
  {
   "cell_type": "code",
   "execution_count": 6,
   "id": "4633d577",
   "metadata": {},
   "outputs": [],
   "source": [
    "class NeuralNetwork(nn.Module):\n",
    "    def __init__(self):\n",
    "        super().__init__()\n",
    "        self.flatten = nn.Flatten()\n",
    "\n",
    "        self.linear_relu_stack = nn.Sequential(\n",
    "            nn.Linear(28*28, 512), # 28x28 is the input size, 512 is the output size\n",
    "            nn.ReLU(), # 512 is input size, 512 is output size\n",
    "            nn.Linear(512, 512), # 512 is input size, 512 is output size\n",
    "            nn.ReLU(), # 512 is input size, 512 is output size\n",
    "            nn.Linear(512, 10), # 512 is input size, 10 is output size\n",
    "            nn.ReLU(), # 10 is input size, 10 is output size\n",
    "        )\n",
    "\n",
    "    def forward(self, x):\n",
    "        x = self.flatten(x)\n",
    "        logits = self.linear_relu_stack(x)\n",
    "        return logits"
   ]
  },
  {
   "cell_type": "code",
   "execution_count": 7,
   "id": "73e10f09",
   "metadata": {},
   "outputs": [
    {
     "name": "stdout",
     "output_type": "stream",
     "text": [
      "NeuralNetwork(\n",
      "  (flatten): Flatten(start_dim=1, end_dim=-1)\n",
      "  (linear_relu_stack): Sequential(\n",
      "    (0): Linear(in_features=784, out_features=512, bias=True)\n",
      "    (1): ReLU()\n",
      "    (2): Linear(in_features=512, out_features=512, bias=True)\n",
      "    (3): ReLU()\n",
      "    (4): Linear(in_features=512, out_features=10, bias=True)\n",
      "    (5): ReLU()\n",
      "  )\n",
      ")\n"
     ]
    }
   ],
   "source": [
    "model = NeuralNetwork().to(device)\n",
    "print(model)"
   ]
  },
  {
   "cell_type": "code",
   "execution_count": 8,
   "id": "fcf5d780",
   "metadata": {},
   "outputs": [
    {
     "name": "stdout",
     "output_type": "stream",
     "text": [
      "Predicted class: tensor([1], device='cuda:0')\n"
     ]
    }
   ],
   "source": [
    "X = torch.rand(1, 28, 28, device=device)\n",
    "logits = model(X)\n",
    "pred_probab = nn.Softmax(dim=1)(logits)\n",
    "y_pred = pred_probab.argmax(1)\n",
    "print(f'Predicted class: {y_pred}')"
   ]
  },
  {
   "cell_type": "markdown",
   "id": "5b4b134e",
   "metadata": {},
   "source": [
    "# model layer"
   ]
  },
  {
   "cell_type": "code",
   "execution_count": 9,
   "id": "126e2409",
   "metadata": {},
   "outputs": [
    {
     "name": "stdout",
     "output_type": "stream",
     "text": [
      "torch.Size([3, 28, 28])\n"
     ]
    }
   ],
   "source": [
    "input_image = torch.rand(3, 28, 28)\n",
    "print(input_image.shape)"
   ]
  },
  {
   "cell_type": "markdown",
   "id": "4109dc40",
   "metadata": {},
   "source": [
    "`nn.Flatten` 0 dim is not flatten, after 1 dims are flatten"
   ]
  },
  {
   "cell_type": "code",
   "execution_count": 10,
   "id": "1f4577cb",
   "metadata": {},
   "outputs": [
    {
     "name": "stdout",
     "output_type": "stream",
     "text": [
      "torch.Size([3, 784])\n"
     ]
    }
   ],
   "source": [
    "flatten = nn.Flatten()\n",
    "flat_image = flatten(input_image)\n",
    "print(flat_image.shape)"
   ]
  },
  {
   "cell_type": "markdown",
   "id": "00948784",
   "metadata": {},
   "source": [
    "`nn.Linear` xW+b"
   ]
  },
  {
   "cell_type": "code",
   "execution_count": 12,
   "id": "cdc81470",
   "metadata": {},
   "outputs": [
    {
     "name": "stdout",
     "output_type": "stream",
     "text": [
      "torch.Size([3, 20])\n"
     ]
    }
   ],
   "source": [
    "layer1 = nn.Linear(in_features=28*28, out_features=20)\n",
    "hidden1 = layer1(flat_image)\n",
    "print(hidden1.shape)"
   ]
  },
  {
   "cell_type": "markdown",
   "id": "8700f930",
   "metadata": {},
   "source": [
    "``nn.ReLU`"
   ]
  },
  {
   "cell_type": "code",
   "execution_count": 13,
   "id": "5395e473",
   "metadata": {},
   "outputs": [
    {
     "name": "stdout",
     "output_type": "stream",
     "text": [
      "before ReLU: tensor([[-0.1650, -0.1680,  0.7445, -0.4745, -0.1140,  0.5935,  0.0063,  0.7916,\n",
      "         -0.3127,  0.2021, -0.1078,  0.1441, -0.3508,  0.3155, -0.3275,  0.0977,\n",
      "         -0.2250,  0.0784, -0.4256,  0.1897],\n",
      "        [-0.0969, -0.3261,  0.8233, -0.4090, -0.0905,  0.5619,  0.2942,  0.5209,\n",
      "         -0.3535,  0.2897,  0.1022, -0.0994, -0.1151,  0.2917, -0.1245, -0.1326,\n",
      "         -0.2376, -0.2648, -0.3912, -0.1481],\n",
      "        [-0.0456, -0.3122,  0.4454, -0.1934,  0.2133,  0.4002, -0.0619,  0.3943,\n",
      "         -0.3434,  0.3976,  0.1857, -0.0579, -0.0502,  0.1374, -0.4048, -0.2739,\n",
      "         -0.3232, -0.2021, -0.6361, -0.2934]], grad_fn=<AddmmBackward0>)\n",
      "after ReLU: tensor([[0.0000, 0.0000, 0.7445, 0.0000, 0.0000, 0.5935, 0.0063, 0.7916, 0.0000,\n",
      "         0.2021, 0.0000, 0.1441, 0.0000, 0.3155, 0.0000, 0.0977, 0.0000, 0.0784,\n",
      "         0.0000, 0.1897],\n",
      "        [0.0000, 0.0000, 0.8233, 0.0000, 0.0000, 0.5619, 0.2942, 0.5209, 0.0000,\n",
      "         0.2897, 0.1022, 0.0000, 0.0000, 0.2917, 0.0000, 0.0000, 0.0000, 0.0000,\n",
      "         0.0000, 0.0000],\n",
      "        [0.0000, 0.0000, 0.4454, 0.0000, 0.2133, 0.4002, 0.0000, 0.3943, 0.0000,\n",
      "         0.3976, 0.1857, 0.0000, 0.0000, 0.1374, 0.0000, 0.0000, 0.0000, 0.0000,\n",
      "         0.0000, 0.0000]], grad_fn=<ReluBackward0>)\n"
     ]
    }
   ],
   "source": [
    "print(f'before ReLU: {hidden1}')\n",
    "hidden1 = nn.ReLU()(hidden1)\n",
    "print(f'after ReLU: {hidden1}')"
   ]
  },
  {
   "cell_type": "markdown",
   "id": "df215f2c",
   "metadata": {},
   "source": [
    "`nn.Sequential`"
   ]
  },
  {
   "cell_type": "code",
   "execution_count": 14,
   "id": "5b18324e",
   "metadata": {},
   "outputs": [],
   "source": [
    "seq_modules = nn.Sequential(\n",
    "    flatten, \n",
    "    layer1,\n",
    "    nn.ReLU(),\n",
    "    nn.Linear(in_features=20, out_features=10)\n",
    ")\n",
    "\n",
    "input_image = torch.rand(3, 28, 28)\n",
    "logits = seq_modules(input_image)"
   ]
  },
  {
   "cell_type": "code",
   "execution_count": 15,
   "id": "cc77e961",
   "metadata": {},
   "outputs": [
    {
     "data": {
      "text/plain": [
       "tensor([[ 0.1758, -0.1955, -0.2526,  0.1106,  0.3715,  0.0722,  0.0688, -0.1547,\n",
       "         -0.0677, -0.0734],\n",
       "        [ 0.0894, -0.2923, -0.1295,  0.2382,  0.3556,  0.2425,  0.0712, -0.2163,\n",
       "         -0.1415, -0.1218],\n",
       "        [ 0.1417, -0.2062, -0.1452,  0.1804,  0.2750,  0.2320,  0.0111, -0.1711,\n",
       "         -0.0038, -0.1244]], grad_fn=<AddmmBackward0>)"
      ]
     },
     "execution_count": 15,
     "metadata": {},
     "output_type": "execute_result"
    }
   ],
   "source": [
    "logits"
   ]
  },
  {
   "cell_type": "markdown",
   "id": "74a0737d",
   "metadata": {},
   "source": [
    "`nn.Softmax`"
   ]
  },
  {
   "cell_type": "code",
   "execution_count": 16,
   "id": "09b69228",
   "metadata": {},
   "outputs": [],
   "source": [
    "softmax = nn.Softmax(dim=1)\n",
    "pred_probab = softmax(logits)"
   ]
  },
  {
   "cell_type": "code",
   "execution_count": 17,
   "id": "d82221fb",
   "metadata": {},
   "outputs": [
    {
     "data": {
      "text/plain": [
       "tensor([[0.1166, 0.0804, 0.0760, 0.1092, 0.1418, 0.1051, 0.1048, 0.0838, 0.0914,\n",
       "         0.0909],\n",
       "        [0.1059, 0.0723, 0.0851, 0.1229, 0.1383, 0.1235, 0.1040, 0.0780, 0.0841,\n",
       "         0.0858],\n",
       "        [0.1114, 0.0787, 0.0836, 0.1158, 0.1273, 0.1220, 0.0978, 0.0815, 0.0964,\n",
       "         0.0854]], grad_fn=<SoftmaxBackward0>)"
      ]
     },
     "execution_count": 17,
     "metadata": {},
     "output_type": "execute_result"
    }
   ],
   "source": [
    "pred_probab"
   ]
  },
  {
   "cell_type": "markdown",
   "id": "cc012370",
   "metadata": {},
   "source": [
    "# model parameters"
   ]
  },
  {
   "cell_type": "code",
   "execution_count": 18,
   "id": "8216461d",
   "metadata": {},
   "outputs": [
    {
     "name": "stdout",
     "output_type": "stream",
     "text": [
      "Model structure: NeuralNetwork(\n",
      "  (flatten): Flatten(start_dim=1, end_dim=-1)\n",
      "  (linear_relu_stack): Sequential(\n",
      "    (0): Linear(in_features=784, out_features=512, bias=True)\n",
      "    (1): ReLU()\n",
      "    (2): Linear(in_features=512, out_features=512, bias=True)\n",
      "    (3): ReLU()\n",
      "    (4): Linear(in_features=512, out_features=10, bias=True)\n",
      "    (5): ReLU()\n",
      "  )\n",
      ")\n",
      "Layer: linear_relu_stack.0.weight, Size: torch.Size([512, 784]) | Values: tensor([[ 0.0126,  0.0237,  0.0057,  ...,  0.0126, -0.0026,  0.0058],\n",
      "        [ 0.0162, -0.0185, -0.0244,  ..., -0.0026, -0.0047,  0.0099]],\n",
      "       device='cuda:0', grad_fn=<SliceBackward0>) \n",
      "\n",
      "Layer: linear_relu_stack.0.bias, Size: torch.Size([512]) | Values: tensor([ 0.0039, -0.0012], device='cuda:0', grad_fn=<SliceBackward0>) \n",
      "\n",
      "Layer: linear_relu_stack.2.weight, Size: torch.Size([512, 512]) | Values: tensor([[ 0.0400,  0.0344,  0.0303,  ...,  0.0270,  0.0321, -0.0034],\n",
      "        [-0.0114,  0.0212, -0.0089,  ...,  0.0167, -0.0110, -0.0143]],\n",
      "       device='cuda:0', grad_fn=<SliceBackward0>) \n",
      "\n",
      "Layer: linear_relu_stack.2.bias, Size: torch.Size([512]) | Values: tensor([0.0251, 0.0003], device='cuda:0', grad_fn=<SliceBackward0>) \n",
      "\n",
      "Layer: linear_relu_stack.4.weight, Size: torch.Size([10, 512]) | Values: tensor([[ 0.0015, -0.0369, -0.0241,  ..., -0.0295, -0.0399,  0.0078],\n",
      "        [-0.0157, -0.0392,  0.0422,  ..., -0.0217, -0.0146,  0.0420]],\n",
      "       device='cuda:0', grad_fn=<SliceBackward0>) \n",
      "\n",
      "Layer: linear_relu_stack.4.bias, Size: torch.Size([10]) | Values: tensor([-0.0221,  0.0068], device='cuda:0', grad_fn=<SliceBackward0>) \n",
      "\n"
     ]
    }
   ],
   "source": [
    "print(f'Model structure: {model}')\n",
    "\n",
    "for name, param in model.named_parameters():\n",
    "    print(f'Layer: {name}, Size: {param.size()} | Values: {param[:2]} \\n')"
   ]
  },
  {
   "cell_type": "code",
   "execution_count": null,
   "id": "13546612",
   "metadata": {},
   "outputs": [],
   "source": []
  }
 ],
 "metadata": {
  "kernelspec": {
   "display_name": ".venv",
   "language": "python",
   "name": "python3"
  },
  "language_info": {
   "codemirror_mode": {
    "name": "ipython",
    "version": 3
   },
   "file_extension": ".py",
   "mimetype": "text/x-python",
   "name": "python",
   "nbconvert_exporter": "python",
   "pygments_lexer": "ipython3",
   "version": "3.10.12"
  }
 },
 "nbformat": 4,
 "nbformat_minor": 5
}
